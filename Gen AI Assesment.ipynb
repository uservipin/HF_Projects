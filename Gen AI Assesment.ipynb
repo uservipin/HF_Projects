{
 "cells": [
  {
   "cell_type": "markdown",
   "metadata": {},
   "source": [
    "# Gen AI Project "
   ]
  },
  {
   "cell_type": "code",
   "execution_count": 1,
   "metadata": {},
   "outputs": [],
   "source": [
    "# ! pip install spacy\n",
    "# !python -m spacy download en_core_web_lg\n",
    "# !python -m spacy download en_core_web_lg \n"
   ]
  },
  {
   "cell_type": "code",
   "execution_count": 2,
   "metadata": {},
   "outputs": [],
   "source": [
    "import json\n",
    "import pandas as pd\n",
    "import re\n",
    "import openai\n",
    "import os\n",
    "import ast\n",
    "import time\n",
    "\n",
    "from openai import OpenAI\n",
    "client = OpenAI()\n",
    "# similarity score\n",
    "from sklearn.metrics.pairwise import cosine_similarity\n",
    "import numpy as np\n",
    "\n",
    "\n",
    "openai.api_key = os.getenv(\"OPENAI_API_KEY\")"
   ]
  },
  {
   "cell_type": "code",
   "execution_count": 3,
   "metadata": {},
   "outputs": [
    {
     "name": "stdout",
     "output_type": "stream",
     "text": [
      "{'reviewerID': 'A3F73SC1LY51OO', 'asin': 'B00002243X', 'reviewerName': 'Alan Montgomery', 'helpful': [4, 4], 'reviewText': \"I needed a set of jumper cables for my new car and these had good reviews and were at a good price.  They have been used a few times already and do what they are supposed to - no complaints there.What I will say is that 12 feet really isn't an ideal length.  Sure, if you pull up front bumper to front bumper they are plenty long, but a lot of times you will be beside another car or can't get really close.  Because of this, I would recommend something a little longer than 12'.Great brand - get 16' version though.\", 'overall': 5.0, 'summary': 'Work Well - Should Have Bought Longer Ones', 'unixReviewTime': 1313539200, 'reviewTime': '08 17, 2011'}\n"
     ]
    }
   ],
   "source": [
    "# Open the file and load the JSON content\n",
    "file_path = 'src/input/Dataset for DS Case Study.json'\n",
    "\n",
    "# Open and read the file\n",
    "with open(file_path, 'r') as file:\n",
    "    data = [json.loads(line) for line in file]\n",
    "\n",
    "# Output the first entry for verification\n",
    "print(data[0])  # Displays the first review\n",
    "\n"
   ]
  },
  {
   "cell_type": "code",
   "execution_count": 4,
   "metadata": {},
   "outputs": [
    {
     "data": {
      "text/html": [
       "<div>\n",
       "<style scoped>\n",
       "    .dataframe tbody tr th:only-of-type {\n",
       "        vertical-align: middle;\n",
       "    }\n",
       "\n",
       "    .dataframe tbody tr th {\n",
       "        vertical-align: top;\n",
       "    }\n",
       "\n",
       "    .dataframe thead th {\n",
       "        text-align: right;\n",
       "    }\n",
       "</style>\n",
       "<table border=\"1\" class=\"dataframe\">\n",
       "  <thead>\n",
       "    <tr style=\"text-align: right;\">\n",
       "      <th></th>\n",
       "      <th>reviewerID</th>\n",
       "      <th>asin</th>\n",
       "      <th>reviewerName</th>\n",
       "      <th>helpful</th>\n",
       "      <th>reviewText</th>\n",
       "      <th>overall</th>\n",
       "      <th>summary</th>\n",
       "      <th>unixReviewTime</th>\n",
       "      <th>reviewTime</th>\n",
       "    </tr>\n",
       "  </thead>\n",
       "  <tbody>\n",
       "    <tr>\n",
       "      <th>0</th>\n",
       "      <td>A3F73SC1LY51OO</td>\n",
       "      <td>B00002243X</td>\n",
       "      <td>Alan Montgomery</td>\n",
       "      <td>[4, 4]</td>\n",
       "      <td>I needed a set of jumper cables for my new car...</td>\n",
       "      <td>5.0</td>\n",
       "      <td>Work Well - Should Have Bought Longer Ones</td>\n",
       "      <td>1313539200</td>\n",
       "      <td>08 17, 2011</td>\n",
       "    </tr>\n",
       "    <tr>\n",
       "      <th>1</th>\n",
       "      <td>A20S66SKYXULG2</td>\n",
       "      <td>B00002243X</td>\n",
       "      <td>alphonse</td>\n",
       "      <td>[1, 1]</td>\n",
       "      <td>These long cables work fine for my truck, but ...</td>\n",
       "      <td>4.0</td>\n",
       "      <td>Okay long cables</td>\n",
       "      <td>1315094400</td>\n",
       "      <td>09 4, 2011</td>\n",
       "    </tr>\n",
       "    <tr>\n",
       "      <th>2</th>\n",
       "      <td>A2I8LFSN2IS5EO</td>\n",
       "      <td>B00002243X</td>\n",
       "      <td>Chris</td>\n",
       "      <td>[0, 0]</td>\n",
       "      <td>Can't comment much on these since they have no...</td>\n",
       "      <td>5.0</td>\n",
       "      <td>Looks and feels heavy Duty</td>\n",
       "      <td>1374710400</td>\n",
       "      <td>07 25, 2013</td>\n",
       "    </tr>\n",
       "    <tr>\n",
       "      <th>3</th>\n",
       "      <td>A3GT2EWQSO45ZG</td>\n",
       "      <td>B00002243X</td>\n",
       "      <td>DeusEx</td>\n",
       "      <td>[19, 19]</td>\n",
       "      <td>I absolutley love Amazon!!!  For the price of ...</td>\n",
       "      <td>5.0</td>\n",
       "      <td>Excellent choice for Jumper Cables!!!</td>\n",
       "      <td>1292889600</td>\n",
       "      <td>12 21, 2010</td>\n",
       "    </tr>\n",
       "    <tr>\n",
       "      <th>4</th>\n",
       "      <td>A3ESWJPAVRPWB4</td>\n",
       "      <td>B00002243X</td>\n",
       "      <td>E. Hernandez</td>\n",
       "      <td>[0, 0]</td>\n",
       "      <td>I purchased the 12' feet long cable set and th...</td>\n",
       "      <td>5.0</td>\n",
       "      <td>Excellent, High Quality Starter Cables</td>\n",
       "      <td>1341360000</td>\n",
       "      <td>07 4, 2012</td>\n",
       "    </tr>\n",
       "  </tbody>\n",
       "</table>\n",
       "</div>"
      ],
      "text/plain": [
       "       reviewerID        asin     reviewerName   helpful  \\\n",
       "0  A3F73SC1LY51OO  B00002243X  Alan Montgomery    [4, 4]   \n",
       "1  A20S66SKYXULG2  B00002243X         alphonse    [1, 1]   \n",
       "2  A2I8LFSN2IS5EO  B00002243X            Chris    [0, 0]   \n",
       "3  A3GT2EWQSO45ZG  B00002243X           DeusEx  [19, 19]   \n",
       "4  A3ESWJPAVRPWB4  B00002243X     E. Hernandez    [0, 0]   \n",
       "\n",
       "                                          reviewText  overall  \\\n",
       "0  I needed a set of jumper cables for my new car...      5.0   \n",
       "1  These long cables work fine for my truck, but ...      4.0   \n",
       "2  Can't comment much on these since they have no...      5.0   \n",
       "3  I absolutley love Amazon!!!  For the price of ...      5.0   \n",
       "4  I purchased the 12' feet long cable set and th...      5.0   \n",
       "\n",
       "                                      summary  unixReviewTime   reviewTime  \n",
       "0  Work Well - Should Have Bought Longer Ones      1313539200  08 17, 2011  \n",
       "1                            Okay long cables      1315094400   09 4, 2011  \n",
       "2                  Looks and feels heavy Duty      1374710400  07 25, 2013  \n",
       "3       Excellent choice for Jumper Cables!!!      1292889600  12 21, 2010  \n",
       "4      Excellent, High Quality Starter Cables      1341360000   07 4, 2012  "
      ]
     },
     "execution_count": 4,
     "metadata": {},
     "output_type": "execute_result"
    }
   ],
   "source": [
    "df =pd.DataFrame(data)\n",
    "df.head(5)"
   ]
  },
  {
   "cell_type": "code",
   "execution_count": 5,
   "metadata": {},
   "outputs": [
    {
     "data": {
      "text/plain": [
       "(100, 9)"
      ]
     },
     "execution_count": 5,
     "metadata": {},
     "output_type": "execute_result"
    }
   ],
   "source": [
    "df.shape"
   ]
  },
  {
   "cell_type": "code",
   "execution_count": 6,
   "metadata": {},
   "outputs": [],
   "source": [
    "# Fill NaN values with empty strings\n",
    "df['reviewText'] = df['reviewText'].fillna('')\n",
    "\n",
    "# Function to clean text\n",
    "def clean_text(text):\n",
    "    text = text.lower()  # Lowercase\n",
    "    text = re.sub(r'\\s+', ' ', text)  # Remove extra spaces\n",
    "    text = re.sub(r'[^\\w\\s]', '', text)  # Remove punctuation\n",
    "    return text\n",
    "\n",
    "# Apply cleaning\n",
    "df['cleaned_reviewText'] = df['reviewText'].apply(clean_text)\n",
    "\n",
    "df[['reviewText', 'cleaned_reviewText']].head(19)\n",
    "\n",
    "\n",
    "labels = [\n",
    "    \"person\",      # people, including fictional characters\n",
    "    \"fac\",         # buildings, airports, highways, bridges\n",
    "    \"org\",         # organizations, companies, agencies, institutions\n",
    "    \"gpe\",         # geopolitical entities like countries, cities, states\n",
    "    \"loc\",         # non-gpe locations\n",
    "    \"product\",     # vehicles, foods, appareal, appliances, software, toys \n",
    "    \"event\",       # named sports, scientific milestones, historical events\n",
    "    \"work_of_art\", # titles of books, songs, movies\n",
    "    \"law\",         # named laws, acts, or legislations\n",
    "    \"language\",    # any named language\n",
    "    \"date\",        # absolute or relative dates or periods\n",
    "    \"time\",        # time units smaller than a day\n",
    "    \"percent\",     # percentage (e.g., \"twenty percent\", \"18%\")\n",
    "    \"money\",       # monetary values, including unit\n",
    "    \"quantity\",    # measurements, e.g., weight or distance\n",
    "    \"automobile\",  # name (e.g., brand or model names)\n",
    "    \"Components\",   #(e.g., engine, tires, steering wheel, etc.)\n",
    "]"
   ]
  },
  {
   "cell_type": "code",
   "execution_count": 41,
   "metadata": {},
   "outputs": [],
   "source": [
    "def ner(free_text): \n",
    "     # Define a prompt to instruct the model to extract entities\n",
    "    prompt = f\"\"\"\n",
    "    Extract all possible named entities from the following text:\n",
    "\n",
    "    Text: \\\"{free_text}\\\"\n",
    "\n",
    "    Entities should include people, organizations, locations, products, and any other relevant categories.\n",
    "    Return the entities in a JSON format with their category (e.g., \"person\", \"organization\", \"location\", \"product\").\n",
    "    \"\"\"\n",
    "\n",
    "    # Make the API call to extract entities\n",
    "    response = openai.chat.completions.create(\n",
    "        model=\"gpt-4o-mini\",\n",
    "        messages=[\n",
    "            {\"role\": \"system\", \"content\": \"Extract all possible named entities from the following text:\"},\n",
    "            {\"role\": \"user\", \"content\": f\"Entities should include {labels}, and any other relevant categories. \"},\n",
    "            {\"role\": \"assistant\", \"content\": \"\"\"Return only the entities in a JSON format with their category (e.g., \"person\", \"organization\", \"location\", \"product\"). no extra text , connects of not available keep it null\"\"\"},\n",
    "            {\"role\": \"user\", \"content\": f\"{free_text}\"}\n",
    "  ]\n",
    "       \n",
    "    )\n",
    "\n",
    "    # Get the model's response\n",
    "    entities = response.choices[0].message.content\n",
    "    time.sleep(2)\n",
    "\n",
    "    return entities\n",
    "\n",
    "\n",
    "def clean_json(text):\n",
    "    try:\n",
    "        print(json.loads(text[8:-4]))\n",
    "        return  json.loads(text[8:-4])\n",
    "    except:\n",
    "        print(json.loads(text[:]))\n",
    "        return  json.loads(text[:])\n",
    "\n",
    "# ner_tagging = pd.json_normalize(df['JSON_clean'])\n",
    "\n",
    "def get_embedding(text, model=\"text-embedding-3-small\"):\n",
    "    response = client.embeddings.create(\n",
    "        input=text,\n",
    "        model=model\n",
    "    )\n",
    "    return response.data[0].embedding\n",
    "\n",
    "def recommend_product(review_text,df,top_n):\n",
    "    input_embedding = get_embedding (review_text)\n",
    "    similarities = cosine_similarity([input_embedding], list(df['Embeddings']))\n",
    "    top_indices = np.argsort(similarities[0][:top_n])\n",
    "    return df.iloc[top_indices]\n",
    "\n",
    "def Recommendation(text): \n",
    "     # Define a prompt to instruct the model to extract entities\n",
    "    prompt = f\"\"\"{text}\"\"\"\n",
    "    # Make the API call to extract entities\n",
    "    response = openai.chat.completions.create(\n",
    "        model=\"gpt-4o-mini\",\n",
    "        messages=[\n",
    "            {\"role\": \"system\", \"content\": \"You are helpgul assistant to extract insight from json structure\"},\n",
    "            {\"role\": \"user\", \"content\": \"Text is given in below statement in json format extract only product name only \"},\n",
    "            {\"role\": \"assistant\", \"content\": \" statement in json format extract information and restruct in english sentence,only englist statement no additional comments \"},\n",
    "            {\"role\": \"user\", \"content\": f\"{text}\"}\n",
    "             ],\n",
    "            temperature= 0\n",
    "            )\n",
    "\n",
    "    # Get the model's response\n",
    "    entities = response.choices[0].message.content\n",
    "    time.sleep(2)\n",
    "\n",
    "    return entities\n"
   ]
  },
  {
   "cell_type": "code",
   "execution_count": 19,
   "metadata": {},
   "outputs": [],
   "source": [
    "input_embedding = get_embedding(\"I am planning to buy insurance for my car, can you recommend some best car insurance company?\")\n",
    "\n",
    "similarities = cosine_similarity([input_embedding], list(df['Embeddings']))\n",
    "\n",
    "similarities[0]\n",
    "\n",
    "df['NER_Tagging'] = df['reviewText'].apply(ner)\n",
    "\n",
    "df['JSON_clean'] = df['NER_Tagging'].apply(clean_json)\n",
    "# merge_pd = pd.merge(df,ner_tagging,left_index=True, right_index=True)\n",
    "\n",
    "df['Embeddings'] = df['reviewText'].apply(get_embedding)"
   ]
  },
  {
   "cell_type": "markdown",
   "metadata": {},
   "source": [
    "### Ask Question based upon review Text"
   ]
  },
  {
   "cell_type": "code",
   "execution_count": 42,
   "metadata": {},
   "outputs": [
    {
     "name": "stdout",
     "output_type": "stream",
     "text": [
      "{'Booster/Jumper Cables', 'bucket boss 06009 jumper cable bag', 'jumper cables', 'The product name is \"cable set\".', 'truck'}\n"
     ]
    }
   ],
   "source": [
    "text = \"I am planning to buy insurance for my car, can you recommend some best car insurance company?\"\n",
    "# text = input()\n",
    "top_n =5  # top 5 recommendations\n",
    "l = set()\n",
    "for i in recommend_product(text,df,top_n=5)['JSON_clean']:\n",
    "    l.add(Recommendation(i))\n",
    "    time.sleep(2)\n",
    "\n",
    "print(l)"
   ]
  },
  {
   "cell_type": "markdown",
   "metadata": {},
   "source": [
    "# Finetuning"
   ]
  },
  {
   "cell_type": "code",
   "execution_count": 3,
   "metadata": {},
   "outputs": [
    {
     "name": "stdout",
     "output_type": "stream",
     "text": [
      "\n"
     ]
    }
   ],
   "source": [
    "import openai \n",
    "import json\n",
    "import os\n",
    "import pandas as pd\n",
    "from openai import OpenAI\n",
    "client = OpenAI()\n",
    "os.getenv(\"OPENAI_API_KEY\")\n",
    "print('')"
   ]
  },
  {
   "cell_type": "code",
   "execution_count": 4,
   "metadata": {},
   "outputs": [],
   "source": [
    "# uploading training file, using 50 datapoints to train model\n",
    "\n",
    "file_path = 'src/output/50_items_for_finetuning.jsonl'\n",
    "response_id = client.files.create(\n",
    "  file=open(file_path, \"rb\"),\n",
    "  purpose=\"fine-tune\"\n",
    ")\n"
   ]
  },
  {
   "cell_type": "code",
   "execution_count": 5,
   "metadata": {},
   "outputs": [
    {
     "data": {
      "text/plain": [
       "FileObject(id='file-WCiTP1x3KNn5aRgr8MyqB3zP', bytes=15524, created_at=1727726152, filename='50_items_for_finetuning.jsonl', object='file', purpose='fine-tune', status='processed', status_details=None)"
      ]
     },
     "execution_count": 5,
     "metadata": {},
     "output_type": "execute_result"
    }
   ],
   "source": [
    "response_id"
   ]
  },
  {
   "cell_type": "code",
   "execution_count": 6,
   "metadata": {},
   "outputs": [
    {
     "data": {
      "text/plain": [
       "FineTuningJob(id='ftjob-jMimL1tIz6hsBFxuYRseRJdM', created_at=1727726182, error=Error(code=None, message=None, param=None), fine_tuned_model=None, finished_at=None, hyperparameters=Hyperparameters(n_epochs='auto', batch_size='auto', learning_rate_multiplier='auto'), model='gpt-4o-mini-2024-07-18', object='fine_tuning.job', organization_id='org-EArhIgizr0y7BT33QNhx4AnQ', result_files=[], seed=788730453, status='validating_files', trained_tokens=None, training_file='file-WCiTP1x3KNn5aRgr8MyqB3zP', validation_file=None, estimated_finish=None, integrations=[], user_provided_suffix=None)"
      ]
     },
     "execution_count": 6,
     "metadata": {},
     "output_type": "execute_result"
    }
   ],
   "source": [
    "client.fine_tuning.jobs.create(\n",
    "  training_file=\"file-WCiTP1x3KNn5aRgr8MyqB3zP\", \n",
    "  model=\"gpt-4o-mini-2024-07-18\"\n",
    ")"
   ]
  },
  {
   "cell_type": "code",
   "execution_count": null,
   "metadata": {},
   "outputs": [],
   "source": [
    "completion = client.chat.completions.create(\n",
    "  model=\"ft:gpt-4o-mini-2024-07-18:personal:finetune:ADGIDfMw\",\n",
    "  messages=[\n",
    "    {\"role\": \"system\", \"content\": \"You are a helpful assistant.\"},\n",
    "    {\"role\": \"user\", \"content\": \"Can you recommend some product for car\" }\n",
    "  ]\n",
    ")\n",
    "print(completion.choices[0].message.content)"
   ]
  }
 ],
 "metadata": {
  "kernelspec": {
   "display_name": ".venv",
   "language": "python",
   "name": "python3"
  },
  "language_info": {
   "codemirror_mode": {
    "name": "ipython",
    "version": 3
   },
   "file_extension": ".py",
   "mimetype": "text/x-python",
   "name": "python",
   "nbconvert_exporter": "python",
   "pygments_lexer": "ipython3",
   "version": "3.10.9"
  }
 },
 "nbformat": 4,
 "nbformat_minor": 2
}
