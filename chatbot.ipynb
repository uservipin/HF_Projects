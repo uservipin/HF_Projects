{
 "cells": [
  {
   "cell_type": "code",
   "execution_count": 18,
   "metadata": {},
   "outputs": [],
   "source": [
    "from openai import OpenAI\n",
    "import os \n",
    "from dotenv import load_dotenv\n",
    "import json\n"
   ]
  },
  {
   "cell_type": "code",
   "execution_count": 4,
   "metadata": {},
   "outputs": [],
   "source": [
    "load_dotenv()\n",
    "\n",
    "# Set API key from .env\n",
    "api_key = os.getenv(\"OPENAI_API_KEY\")\n",
    "select_model = \"gpt-3.5-turbo\"\n",
    "\n",
    "client = OpenAI(api_key=api_key)"
   ]
  },
  {
   "cell_type": "code",
   "execution_count": 13,
   "metadata": {},
   "outputs": [],
   "source": [
    "def classify_query_complexity(query, model=select_model):\n",
    "     \n",
    "     prompt = f\"\"\"\n",
    "        You are a language model that classifies the complexity of user queries based on their structure, ambiguity, required reasoning, and potential difficulty to answer.\n",
    "\n",
    "        Classify the following query as one of: Simple, Moderate, Complex.\n",
    "        Provide output in this JSON format:\n",
    "        {{\n",
    "        \"query\": \"...\",\n",
    "        \"complexity\": \"Simple/Moderate/Complex\",\n",
    "        \"reason\": \"Short explanation of why it is classified this way.\"\n",
    "        }}\n",
    "\n",
    "        Query:\n",
    "        \\\"\\\"\\\"{query}\\\"\\\"\\\"\n",
    "            \"\"\"\n",
    "\n",
    "     try:\n",
    "        response = client.chat.completions.create(\n",
    "            model=model,\n",
    "            messages=[{\"role\": \"user\", \"content\": prompt}],\n",
    "            temperature=0.3\n",
    "        )\n",
    "        return response.choices[0].message.content\n",
    "\n",
    "     except Exception as e:\n",
    "        return f\"Error: {e}\"\n"
   ]
  },
  {
   "cell_type": "code",
   "execution_count": 20,
   "metadata": {},
   "outputs": [
    {
     "name": "stdout",
     "output_type": "stream",
     "text": [
      "🧠 Evaluating: What is the capital of France?\n",
      "Simple\n",
      "--------------------------------------------------\n",
      "🧠 Evaluating: Explain the impact of quantum computing on modern cryptography.\n",
      "Complex\n",
      "--------------------------------------------------\n",
      "🧠 Evaluating: List all the employees in the marketing department who joined after 2021 and worked on project X.\n",
      "Complex\n",
      "--------------------------------------------------\n",
      "🧠 Evaluating: How does a car work?\n",
      "Moderate\n",
      "--------------------------------------------------\n"
     ]
    }
   ],
   "source": [
    "\n",
    "# 🧪 Test Example\n",
    "if __name__ == \"__main__\":\n",
    "    queries = [\n",
    "        \"What is the capital of France?\",\n",
    "        \"Explain the impact of quantum computing on modern cryptography.\",\n",
    "        \"List all the employees in the marketing department who joined after 2021 and worked on project X.\",\n",
    "        \"How does a car work?\"\n",
    "    ]\n",
    "\n",
    "    for q in queries:\n",
    "        print(f\"🧠 Evaluating: {q}\")\n",
    "        print( json.loads(classify_query_complexity(q))['complexity'] )\n",
    "        print(\"-\" * 50)"
   ]
  },
  {
   "cell_type": "code",
   "execution_count": null,
   "metadata": {},
   "outputs": [],
   "source": []
  }
 ],
 "metadata": {
  "kernelspec": {
   "display_name": ".venv",
   "language": "python",
   "name": "python3"
  },
  "language_info": {
   "codemirror_mode": {
    "name": "ipython",
    "version": 3
   },
   "file_extension": ".py",
   "mimetype": "text/x-python",
   "name": "python",
   "nbconvert_exporter": "python",
   "pygments_lexer": "ipython3",
   "version": "3.10.9"
  }
 },
 "nbformat": 4,
 "nbformat_minor": 2
}
