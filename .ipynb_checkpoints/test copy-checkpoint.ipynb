{
 "cells": [
  {
   "cell_type": "markdown",
   "metadata": {},
   "source": [
    "# testing "
   ]
  },
  {
   "cell_type": "code",
   "execution_count": null,
   "metadata": {},
   "outputs": [],
   "source": [
    "import os\n",
    "from dotenv import load_dotenv\n",
    "from langchain.llms import OpenAI\n",
    "from langchain.chains.question_answering import load_qa_chain\n",
    "from langchain.text_splitter import CharacterTextSplitter\n",
    "from langchain.docstore.document import Document\n",
    "load_dotenv()\n",
    "import openai"
   ]
  },
  {
   "cell_type": "code",
   "execution_count": null,
   "metadata": {},
   "outputs": [],
   "source": [
    "openai_api_key = os.getenv(\"OPENAI_API_KEY\")\n"
   ]
  },
  {
   "cell_type": "code",
   "execution_count": null,
   "metadata": {},
   "outputs": [],
   "source": [
    "llm = OpenAI(api_key=openai_api_key)\n",
    "\n",
    "# Sample text data (you can replace this with your actual text data)\n",
    "document_text = \"\"\"\n",
    "In  a  small,  white-washed  house  in  Porbandar,  on  the  coast  of  Kathiawad  in \n",
    "western India, Mohandas Gandhi was born on October 2, 1869. His parents were \n",
    "Karamchand  Gandhi  and  Putlibai.  He  was  small  and  dark,  and  looked  no \n",
    "different  from  the  millions  of  other  children  born  in  India.  Yet  this  was  no \n",
    "ordinary  child.  He  was  to  fight  and  overcome  a  great  empire  and,  without \n",
    "taking  to  arms,  set  his  country  free.  He  was  to  be  called  the  Mahatma,  the \n",
    "Great Soul. Having led his people to freedom, he was to lay down his life for \n",
    "their sake. \n",
    "Porbandar  is  an  old  sea-port,  overlooked  by  the  distant  Barda  Hills.  Even  in \n",
    "ancient days ships from far off lands went there to trade. It was the ancestral \n",
    "home of the Gandhi's. The grandfather and father of Mohandas were famous for \n",
    "their ability and for their upright character. \n",
    "Grandfather  Uttamchand  Gandhi,  who  belonged  to  a  humble  family  of \n",
    "merchants,  become  the  Dewan  of  Porbandar.  He  was  succeeded  by  his  son, \n",
    "Karamchand Gandhi popularly known as a Kaba Gandhi. Karamchand had very \n",
    "little  formal  education,  but  his  knowledge  and  experience  made  him  a  good \n",
    "administrator. He was brave and generous. He had, however, one fault a bad \n",
    "temper. \n",
    "Putlibai,  Karamchand  Gandhi's  wife,  was  deeply  religious.  Every  day  she \n",
    "worshipped at the temple. She was a lovable and strong willed woman, widely \n",
    "respected for her wisdom and good sense. People often sought her advice on \n",
    "various matters. \n",
    "Mohandas  was  the  youngest  of  the  six  children  of  Kaba  Gandhi.  He  was  the \n",
    "favourite  child  of  the  family  and  was  called  'Moniya'  by  his  fond  parents  and \n",
    "their friends. Moniya adored his mother. He loved his father too, but he was a \n",
    "little afraid of him. \n",
    "As  a  child,  Moniya  seldom  liked  to  stay  at  home.  He  would  go  home  for  his \n",
    "meals and then run away again to play outside. If one of his brothers teased \n",
    "\"\"\"\n",
    "\n",
    "# Create a text splitter to manage long documents (if needed)\n",
    "text_splitter = CharacterTextSplitter(\n",
    "    separator=\"\\n\\n\",\n",
    "    chunk_size=500,\n",
    "    chunk_overlap=100,\n",
    ")\n",
    "\n",
    "texts = text_splitter.split_text(document_text)\n",
    "\n",
    "# Convert text chunks into Document objects\n",
    "documents = [Document(page_content=chunk) for chunk in texts]"
   ]
  },
  {
   "cell_type": "code",
   "execution_count": null,
   "metadata": {},
   "outputs": [],
   "source": [
    "documents"
   ]
  },
  {
   "cell_type": "code",
   "execution_count": null,
   "metadata": {},
   "outputs": [],
   "source": [
    "documents"
   ]
  },
  {
   "cell_type": "code",
   "execution_count": null,
   "metadata": {},
   "outputs": [],
   "source": [
    "\n",
    "# Load the QA chain\n",
    "qa_chain = load_qa_chain(llm, chain_type=\"stuff\")  # \"stuff\" is for concatenating text\n",
    "\n",
    "# Example question\n",
    "question = \"Date of birth of Gandhi\"\n",
    "\n",
    "# Run the question-answering chain\n",
    "response = qa_chain.run(input_documents=documents, question=question)\n",
    "\n",
    "# Output the answer\n",
    "print(\"Answer:\", response)"
   ]
  },
  {
   "cell_type": "code",
   "execution_count": null,
   "metadata": {},
   "outputs": [],
   "source": [
    "# Use the LLM to generate text\n",
    "response = llm(\"Tell me a joke.\")\n",
    "print(response)"
   ]
  },
  {
   "cell_type": "code",
   "execution_count": null,
   "metadata": {},
   "outputs": [],
   "source": [
    "from pathlib import Path\n",
    "from openai import OpenAI\n",
    "client = OpenAI()\n",
    "\n",
    "speech_file_path =  \"speech.mp3\"\n",
    "response = client.audio.speech.create(\n",
    "  model=\"tts-1\",\n",
    "  voice=\"alloy\",\n",
    "  input=\"Today is a wonderful day to build something people love!\"\n",
    ")\n",
    "\n",
    "response.stream_to_file(speech_file_path)"
   ]
  },
  {
   "cell_type": "code",
   "execution_count": null,
   "metadata": {},
   "outputs": [],
   "source": [
    "from openai import OpenAI\n",
    "client = OpenAI()\n",
    "\n",
    "response = client.chat.completions.create(\n",
    "  model=\"gpt-4o\",\n",
    "  messages=[\n",
    "    {\n",
    "      \"role\": \"system\",\n",
    "      \"content\": \"You will be provided with a block of text, and your task is to extract a list of keywords from it.\"\n",
    "    },\n",
    "    {\n",
    "      \"role\": \"user\",\n",
    "      \"content\": \"Black-on-black ware is a 20th- and 21st-century pottery tradition developed by the Puebloan Native American ceramic artists in Northern New Mexico. Traditional reduction-fired blackware has been made for centuries by pueblo artists. Black-on-black ware of the past century is produced with a smooth surface, with the designs applied through selective burnishing or the application of refractory slip. Another style involves carving or incising designs and selectively polishing the raised areas. For generations several families from Kha'po Owingeh and P'ohwhóge Owingeh pueblos have been making black-on-black ware with the techniques passed down from matriarch potters. Artists from other pueblos have also produced black-on-black ware. Several contemporary artists have created works honoring the pottery of their ancestors.\"\n",
    "    }\n",
    "  ],\n",
    "  temperature=0.5,\n",
    "  max_tokens=64,\n",
    "  top_p=1\n",
    ")"
   ]
  },
  {
   "cell_type": "code",
   "execution_count": null,
   "metadata": {},
   "outputs": [],
   "source": [
    "print(response.choices[0].message.content)"
   ]
  },
  {
   "cell_type": "code",
   "execution_count": null,
   "metadata": {},
   "outputs": [],
   "source": []
  },
  {
   "cell_type": "code",
   "execution_count": null,
   "metadata": {},
   "outputs": [],
   "source": [
    "from openai import OpenAI\n",
    "client = OpenAI()\n",
    "\n",
    "response = client.chat.completions.create(\n",
    "  model=\"gpt-4o\",\n",
    "  messages=[\n",
    "    {\n",
    "      \"role\": \"system\",\n",
    "      \"content\": \"You will be provided with a piece of Python code, and your task is to find and fix bugs in it.\"\n",
    "    },\n",
    "    {\n",
    "      \"role\": \"user\",\n",
    "      \"content\": \"import random\\n    a = random.randint(1,12)\\n    b = random.randint(1,12)\\n    for i in range(10):\\n        question = \\\"What is \\\"+a+\\\" x \\\"+b+\\\"? \\\"\\n        answer = input(question)\\n        if answer = a*b\\n            print (Well done!)\\n        else:\\n            print(\\\"No.\\\")\"\n",
    "    }\n",
    "  ],\n",
    "  temperature=0.7,\n",
    "  max_tokens=64,\n",
    "  top_p=1\n",
    ")"
   ]
  },
  {
   "cell_type": "code",
   "execution_count": null,
   "metadata": {},
   "outputs": [],
   "source": [
    "print(response.choices[0].message.content)"
   ]
  },
  {
   "cell_type": "code",
   "execution_count": null,
   "metadata": {},
   "outputs": [],
   "source": []
  },
  {
   "cell_type": "code",
   "execution_count": null,
   "metadata": {},
   "outputs": [],
   "source": [
    "from openai import OpenAI\n",
    "client = OpenAI()\n",
    "\n",
    "response = client.chat.completions.create(\n",
    "  model=\"gpt-4o\",\n",
    "  messages=[\n",
    "    {\n",
    "      \"role\": \"system\",\n",
    "      \"content\": \"You will be provided with a text, and your task is to extract the airport codes from it.\"\n",
    "    },\n",
    "    {\n",
    "      \"role\": \"user\",\n",
    "      \"content\": \"I want to fly from Orlando to Boston\"\n",
    "    }\n",
    "  ],\n",
    "  temperature=0.7,\n",
    "  max_tokens=64,\n",
    "  top_p=1\n",
    "  \n",
    ")\n",
    "\n",
    "\n",
    "print(response.choices[0].message.content)"
   ]
  },
  {
   "cell_type": "code",
   "execution_count": null,
   "metadata": {},
   "outputs": [],
   "source": [
    "from openai import OpenAI\n",
    "client = OpenAI()\n",
    "\n",
    "response = client.chat.completions.create(\n",
    "  model=\"gpt-4o\",\n",
    "  messages=[\n",
    "    {\n",
    "      \"role\": \"system\",\n",
    "      \"content\": \"You will be provided with a block of text, and your task is to extracttag a list of NER in dictionary form tag personin, place or electromic item  dict if availabel\"\n",
    "    },\n",
    "    {\n",
    "      \"role\": \"user\",\n",
    "      \"content\": \"Black-on-black ware is a 20th- and 21st-century pottery tradition developed by the Puebloan Native American ceramic artists in Northern New Mexico. Traditional reduction-fired blackware has been made for centuries by pueblo artists. Black-on-black ware of the past century is produced with a smooth surface, with the designs applied through selective burnishing or the application of refractory slip. Another style involves carving or incising designs and selectively polishing the raised areas. For generations several families from Kha'po Owingeh and P'ohwhóge Owingeh pueblos have been making black-on-black ware with the techniques passed down from matriarch potters. Artists from other pueblos have also produced black-on-black ware. Several contemporary artists have created works honoring the pottery of their ancestors.\"\n",
    "    }\n",
    "  ],\n",
    "  temperature=0.5,\n",
    "  max_tokens=64,\n",
    "  top_p=1\n",
    ")\n",
    "\n",
    "print(response.choices[0].message.content)"
   ]
  },
  {
   "cell_type": "code",
   "execution_count": null,
   "metadata": {},
   "outputs": [],
   "source": [
    "response.choices[0].message.content"
   ]
  },
  {
   "cell_type": "code",
   "execution_count": null,
   "metadata": {},
   "outputs": [],
   "source": [
    "import json "
   ]
  },
  {
   "cell_type": "code",
   "execution_count": null,
   "metadata": {},
   "outputs": [],
   "source": [
    "response.choices[0].message.content[8:-4]\n",
    "\n"
   ]
  },
  {
   "cell_type": "code",
   "execution_count": null,
   "metadata": {},
   "outputs": [],
   "source": [
    "json.loads(response.choices[0].message.content[8:-4])"
   ]
  },
  {
   "cell_type": "code",
   "execution_count": null,
   "metadata": {},
   "outputs": [],
   "source": [
    "from pydantic import BaseModel\n",
    "from openai import OpenAI\n",
    "\n",
    "client = OpenAI()\n",
    "\n",
    "class CalendarEvent(BaseModel):\n",
    "    name: str\n",
    "    date: str\n",
    "    participants: list[str]\n",
    "\n",
    "completion = client.beta.chat.completions.parse(\n",
    "    model=\"gpt-4o-2024-08-06\",\n",
    "    messages=[\n",
    "        {\"role\": \"system\", \"content\": \"Extract the event information.\"},\n",
    "        {\"role\": \"user\", \"content\": \"Alice and Bob are going to a science fair on Friday.\"},\n",
    "    ],\n",
    "    response_format=CalendarEvent,\n",
    ")\n",
    "\n",
    "event = completion.choices[0].message.parsed"
   ]
  },
  {
   "cell_type": "code",
   "execution_count": null,
   "metadata": {},
   "outputs": [],
   "source": [
    "event"
   ]
  },
  {
   "cell_type": "code",
   "execution_count": null,
   "metadata": {},
   "outputs": [],
   "source": [
    "from pydantic import BaseModel\n",
    "from openai import OpenAI\n",
    "\n",
    "client = OpenAI()\n",
    "\n",
    "class Step(BaseModel):\n",
    "    explanation: str\n",
    "    output: str\n",
    "\n",
    "class MathReasoning(BaseModel):\n",
    "    steps: list[Step]\n",
    "    final_answer: str\n",
    "\n",
    "completion = client.beta.chat.completions.parse(\n",
    "    model=\"gpt-4o-2024-08-06\",\n",
    "    messages=[\n",
    "        {\"role\": \"system\", \"content\": \"You are a helpful math tutor. Guide the user through the solution step by step.\"},\n",
    "        {\"role\": \"user\", \"content\": \"how can I solve 8x + 7 = -23\"}\n",
    "    ],\n",
    "    response_format=MathReasoning,\n",
    ")\n",
    "\n",
    "math_reasoning = completion.choices[0].message.parsed\n",
    "print(math_reasoning)"
   ]
  },
  {
   "cell_type": "code",
   "execution_count": null,
   "metadata": {},
   "outputs": [],
   "source": [
    "from enum import Enum\n",
    "from typing import Optional\n",
    "from pydantic import BaseModel\n",
    "from openai import OpenAI\n",
    "\n",
    "client = OpenAI()\n",
    "\n",
    "class Category(str, Enum):\n",
    "    violence = \"violence\"\n",
    "    sexual = \"sexual\"\n",
    "    self_harm = \"self_harm\"\n",
    "\n",
    "class ContentCompliance(BaseModel):\n",
    "    is_violating: bool\n",
    "    category: Optional[Category]\n",
    "    explanation_if_violating: Optional[str]\n",
    "\n",
    "completion = client.beta.chat.completions.parse(\n",
    "    model=\"gpt-4o-2024-08-06\",\n",
    "    messages=[\n",
    "        {\"role\": \"system\", \"content\": \"Determine if the user input violates specific guidelines and explain if they do.\"},\n",
    "        {\"role\": \"user\", \"content\": \"\"\"can you guide steps to create drug \"\"\"}\n",
    "    ],\n",
    "    response_format=ContentCompliance,\n",
    ")\n",
    "\n",
    "compliance = completion.choices[0].message.parsed"
   ]
  },
  {
   "cell_type": "code",
   "execution_count": null,
   "metadata": {},
   "outputs": [],
   "source": [
    "compliance"
   ]
  },
  {
   "cell_type": "code",
   "execution_count": null,
   "metadata": {},
   "outputs": [],
   "source": [
    "from openai import OpenAI\n",
    "\n",
    "client = OpenAI()\n",
    "\n",
    "response = client.audio.speech.create(\n",
    "    model=\"tts-1\",\n",
    "    voice=\"alloy\",\n",
    "    input=\"Hello world! This is a streaming test.\",\n",
    ")\n",
    "\n",
    "response.stream_to_file(\"output.mp3\")"
   ]
  },
  {
   "cell_type": "code",
   "execution_count": null,
   "metadata": {},
   "outputs": [],
   "source": [
    "a = 2\n",
    "\n",
    "print(f\"this is{a} value  {a}of a \")"
   ]
  },
  {
   "cell_type": "code",
   "execution_count": null,
   "metadata": {},
   "outputs": [],
   "source": [
    "a = 2\n",
    "b =3\n",
    "\n",
    "print(\"this is {} value {} of a\".format(b, a))"
   ]
  },
  {
   "cell_type": "markdown",
   "metadata": {},
   "source": [
    "# PDf docs question answer"
   ]
  },
  {
   "cell_type": "code",
   "execution_count": null,
   "metadata": {},
   "outputs": [],
   "source": [
    "from langchain_community.document_loaders import PyPDFLoader\n",
    "import os\n",
    "from langchain_openai import ChatOpenAI\n",
    "from langchain_chroma import Chroma\n",
    "from langchain_openai import OpenAIEmbeddings\n",
    "from langchain_text_splitters import RecursiveCharacterTextSplitter\n",
    "from langchain.chains.question_answering import load_qa_chain\n",
    "\n",
    "os.environ[\"OPENAI_API_KEY\"]\n",
    "file_path = \"src/input/The_Story_of_Gandhi-1-15.pdf\"\n",
    "\n",
    "loader = PyPDFLoader(file_path)\n",
    "docs = loader.load()\n",
    "print(len(docs))"
   ]
  },
  {
   "cell_type": "code",
   "execution_count": 21,
   "metadata": {},
   "outputs": [],
   "source": [
    "llm = ChatOpenAI(model=\"gpt-3.5-turbo\")\n",
    "text_splitter = RecursiveCharacterTextSplitter(chunk_size=500, chunk_overlap=100)\n",
    "splits = text_splitter.split_documents(docs)\n",
    "vectorstore = Chroma.from_documents(documents=splits, embedding=OpenAIEmbeddings())\n",
    "\n",
    "retriever = vectorstore.as_retriever()"
   ]
  },
  {
   "cell_type": "code",
   "execution_count": null,
   "metadata": {},
   "outputs": [],
   "source": [
    "# Load the QA chain\n",
    "qa_chain = load_qa_chain(llm, chain_type=\"stuff\")  # \"stuff\" is for concatenating text\n",
    "\n",
    "# Example question\n",
    "question = \"Whar happen on June 10, 1891 \"\n",
    "\n",
    "# Run the question-answering chain\n",
    "response = qa_chain.run(input_documents=splits, question=question)\n",
    "\n",
    "# Output the answer\n",
    "print(\"Answer:\", response)"
   ]
  },
  {
   "cell_type": "code",
   "execution_count": 2,
   "metadata": {},
   "outputs": [],
   "source": [
    "import pandas as pd\n"
   ]
  },
  {
   "cell_type": "code",
   "execution_count": null,
   "metadata": {},
   "outputs": [],
   "source": [
    "pd.Series([1,2,3,4])"
   ]
  },
  {
   "cell_type": "code",
   "execution_count": null,
   "metadata": {},
   "outputs": [],
   "source": [
    "pd.Series([[1,2,3,4],[1,2,3,4],[1,2,3,4],[1,2,3,4]])"
   ]
  },
  {
   "cell_type": "code",
   "execution_count": null,
   "metadata": {},
   "outputs": [],
   "source": [
    "pd.Series([1,2,3,4],[1,2,3,4])"
   ]
  },
  {
   "cell_type": "code",
   "execution_count": null,
   "metadata": {},
   "outputs": [],
   "source": [
    "import numpy as np\n",
    "\n",
    "pd.Series(np.random.normal(10,5,5))"
   ]
  },
  {
   "cell_type": "code",
   "execution_count": null,
   "metadata": {},
   "outputs": [],
   "source": [
    "ser = pd.Series(np.random.randint(1,10,7))\n",
    "ser"
   ]
  },
  {
   "cell_type": "code",
   "execution_count": 18,
   "metadata": {},
   "outputs": [],
   "source": [
    "tt = np.argwhere(ser%3 ==0)"
   ]
  },
  {
   "cell_type": "code",
   "execution_count": null,
   "metadata": {},
   "outputs": [],
   "source": [
    "tt.tolist()"
   ]
  },
  {
   "cell_type": "code",
   "execution_count": null,
   "metadata": {},
   "outputs": [],
   "source": [
    "tt"
   ]
  },
  {
   "cell_type": "code",
   "execution_count": null,
   "metadata": {},
   "outputs": [],
   "source": [
    "ser.take([0,2])"
   ]
  },
  {
   "cell_type": "code",
   "execution_count": null,
   "metadata": {},
   "outputs": [],
   "source": [
    "# Input\n",
    "mylist = list('abcedfghijklmnopqrstuvwxyz')\n",
    "myarr = np.arange(26)\n",
    "mydict = dict(zip(mylist, myarr))\n",
    "ser = pd.Series(mydict)\n",
    "\n",
    "# Solution\n",
    "df = ser.to_frame().reset_index()\n",
    "print(df.head())"
   ]
  },
  {
   "cell_type": "code",
   "execution_count": null,
   "metadata": {},
   "outputs": [],
   "source": [
    "df = ser.to_frame().reset_index()\n",
    "df"
   ]
  },
  {
   "cell_type": "code",
   "execution_count": null,
   "metadata": {},
   "outputs": [],
   "source": [
    "pd.Series(dict(zip([\"a\",'b','c'],[1,2,3])))"
   ]
  },
  {
   "cell_type": "code",
   "execution_count": null,
   "metadata": {},
   "outputs": [],
   "source": [
    "d = dict(zip([\"a\",'b','c'],[1,2,3]))\n",
    "list(d.items())"
   ]
  },
  {
   "cell_type": "code",
   "execution_count": null,
   "metadata": {},
   "outputs": [],
   "source": [
    "d"
   ]
  },
  {
   "cell_type": "code",
   "execution_count": null,
   "metadata": {},
   "outputs": [],
   "source": [
    "pd.DataFrame(list(d.items()))"
   ]
  },
  {
   "cell_type": "code",
   "execution_count": null,
   "metadata": {},
   "outputs": [],
   "source": [
    "pd.DataFrame.from_dict(d, orient='index').reset_index()"
   ]
  },
  {
   "cell_type": "code",
   "execution_count": 60,
   "metadata": {},
   "outputs": [],
   "source": [
    "item_dict = {\n",
    "    \"City\": ['Agra','Mathura'],\n",
    "    'Dis':[3,4],\n",
    "    'Fair':[33,44]\n",
    "}\n",
    "\n"
   ]
  },
  {
   "cell_type": "code",
   "execution_count": null,
   "metadata": {},
   "outputs": [],
   "source": [
    "pd.DataFrame(item_dict)"
   ]
  },
  {
   "cell_type": "code",
   "execution_count": null,
   "metadata": {},
   "outputs": [],
   "source": [
    "item_dict = {\n",
    "    \"City\": ['Agra'],\n",
    "    'Dis':[3],\n",
    "    'Fair':[33]\n",
    "}\n",
    "\n",
    "\n",
    "pd.DataFrame(item_dict)"
   ]
  },
  {
   "cell_type": "code",
   "execution_count": null,
   "metadata": {},
   "outputs": [],
   "source": [
    "item_dict = {\n",
    "    \"City\": 'Agra',\n",
    "    'Dis':3,\n",
    "    'Fair':33\n",
    "}\n",
    "pd.DataFrame.from_dict(item_dict,orient='index').reset_index()"
   ]
  },
  {
   "cell_type": "code",
   "execution_count": null,
   "metadata": {},
   "outputs": [],
   "source": [
    "import numpy as np\n",
    "ser1 = pd.Series(list('abcedfghijklmnopqrstuvwxyz'))\n",
    "ser2 = pd.Series(np.arange(26))\n",
    "\n",
    "\n",
    "pd.DataFrame.from_dict(dict(zip(ser1,ser2)),orient='index').reset_index()"
   ]
  },
  {
   "cell_type": "code",
   "execution_count": null,
   "metadata": {},
   "outputs": [],
   "source": [
    "ser1 = pd.Series([1,2,3,4])\n",
    "ser2 = pd.Series([3,4,5,6])\n",
    "\n",
    "np.union1d(ser1,ser2)"
   ]
  },
  {
   "cell_type": "code",
   "execution_count": null,
   "metadata": {},
   "outputs": [],
   "source": [
    "ser1 = pd.Series([1,2,3,4])\n",
    "ser2 = pd.Series([3,4,5,6])\n",
    "\n",
    "np.intersect1d(ser1,ser2)"
   ]
  },
  {
   "cell_type": "code",
   "execution_count": null,
   "metadata": {},
   "outputs": [],
   "source": [
    "ser1.quantile(.45)"
   ]
  },
  {
   "cell_type": "code",
   "execution_count": null,
   "metadata": {},
   "outputs": [],
   "source": [
    "list('123')"
   ]
  },
  {
   "cell_type": "code",
   "execution_count": null,
   "metadata": {},
   "outputs": [],
   "source": [
    "np.random.RandomState(100)\n",
    "ser = pd.Series(np.random.randint(1, 5, 12))\n",
    "ser"
   ]
  },
  {
   "cell_type": "code",
   "execution_count": null,
   "metadata": {},
   "outputs": [],
   "source": [
    "ser.value_counts().index[:1]"
   ]
  },
  {
   "cell_type": "code",
   "execution_count": null,
   "metadata": {},
   "outputs": [],
   "source": [
    "ser[~ser.isin(ser.value_counts().index[:1])] = 'Other'\n",
    "ser"
   ]
  },
  {
   "cell_type": "code",
   "execution_count": null,
   "metadata": {},
   "outputs": [],
   "source": [
    "# Input\n",
    "ser = pd.Series(np.random.randint(1, 10, 7))\n",
    "ser\n",
    "\n",
    "# Solution\n",
    "print(ser)\n",
    "np.argwhere(ser % 3==0)\n",
    "\n",
    "ser % 3==0"
   ]
  },
  {
   "cell_type": "code",
   "execution_count": null,
   "metadata": {},
   "outputs": [],
   "source": [
    "ser[0]"
   ]
  },
  {
   "cell_type": "code",
   "execution_count": 97,
   "metadata": {},
   "outputs": [],
   "source": [
    "ser1 = pd.Series(range(5))\n",
    "ser2 = pd.Series(list('abcde'))"
   ]
  },
  {
   "cell_type": "code",
   "execution_count": null,
   "metadata": {},
   "outputs": [],
   "source": [
    "# Horizontal\n",
    "df = pd.concat([ser1, ser2], axis=1)\n",
    "print(df)"
   ]
  },
  {
   "cell_type": "code",
   "execution_count": null,
   "metadata": {},
   "outputs": [],
   "source": [
    "ser = pd.Series(['01 Jan 2010', '02-02-2011', '20120303', '2013/04/04', '2014-05-05', '2015-06-06T12:20'])\n",
    "ser"
   ]
  },
  {
   "cell_type": "code",
   "execution_count": null,
   "metadata": {},
   "outputs": [],
   "source": []
  },
  {
   "cell_type": "code",
   "execution_count": null,
   "metadata": {},
   "outputs": [],
   "source": [
    "# Solution\n",
    "from dateutil.parser import parse\n",
    "ser_ts = ser.map(lambda x: parse(x))\n",
    "ser_ts.dt.date"
   ]
  },
  {
   "cell_type": "code",
   "execution_count": null,
   "metadata": {},
   "outputs": [],
   "source": [
    "ser_ts.dt.day,"
   ]
  },
  {
   "cell_type": "code",
   "execution_count": 109,
   "metadata": {},
   "outputs": [],
   "source": [
    "ser = pd.Series(['Jan 2010', 'Feb 2011', 'Mar 2012'])\n",
    "\n"
   ]
  },
  {
   "cell_type": "code",
   "execution_count": 110,
   "metadata": {},
   "outputs": [],
   "source": [
    "from dateutil.parser import parser"
   ]
  },
  {
   "cell_type": "code",
   "execution_count": 111,
   "metadata": {},
   "outputs": [],
   "source": [
    "map_l = ser.map(lambda x: parse(x))"
   ]
  },
  {
   "cell_type": "code",
   "execution_count": null,
   "metadata": {},
   "outputs": [],
   "source": [
    "map_l.dt.day.astype('str')"
   ]
  },
  {
   "cell_type": "code",
   "execution_count": 118,
   "metadata": {},
   "outputs": [],
   "source": [
    "ser = pd.Series(['Apple', 'Orange', 'Plan', 'Python', 'Money'])\n"
   ]
  },
  {
   "cell_type": "code",
   "execution_count": 16,
   "metadata": {},
   "outputs": [],
   "source": [
    "df = pd.read_csv('https://raw.githubusercontent.com/selva86/datasets/master/Cars93_miss.csv')\n"
   ]
  },
  {
   "cell_type": "code",
   "execution_count": null,
   "metadata": {},
   "outputs": [],
   "source": [
    "df.describe()"
   ]
  },
  {
   "cell_type": "code",
   "execution_count": null,
   "metadata": {},
   "outputs": [],
   "source": [
    "df.info()"
   ]
  },
  {
   "cell_type": "code",
   "execution_count": null,
   "metadata": {},
   "outputs": [],
   "source": [
    "df.isnull().sum()"
   ]
  },
  {
   "cell_type": "code",
   "execution_count": null,
   "metadata": {},
   "outputs": [],
   "source": [
    "df[['Min.Price','Max.Price']] = df[['Min.Price','Max.Price']].apply(lambda x: x.fillna(x.mean()))\n",
    "df[['Min.Price','Max.Price']]"
   ]
  },
  {
   "cell_type": "code",
   "execution_count": null,
   "metadata": {},
   "outputs": [],
   "source": []
  },
  {
   "cell_type": "code",
   "execution_count": 40,
   "metadata": {},
   "outputs": [],
   "source": [
    "import numpy as np\n",
    "# Solution\n",
    "d = {'Min.Price': np.nanmean, 'Max.Price': np.nanmedian}\n",
    "df[['Min.Price', 'Max.Price']] = df[['Min.Price', 'Max.Price']].apply(lambda x, d: x.fillna(d[x.name](x)), args=(d, ))"
   ]
  },
  {
   "cell_type": "code",
   "execution_count": null,
   "metadata": {},
   "outputs": [],
   "source": [
    "df[['Min.Price','Max.Price']].apply(lambda x,d :x.fillna(d[x.name](x)),args= (d,))"
   ]
  },
  {
   "cell_type": "code",
   "execution_count": 44,
   "metadata": {},
   "outputs": [],
   "source": [
    "df[['Manufacturer','Model','Type']]  =  df[['Manufacturer','Model','Type']].apply(lambda x : x.fillna('missing'))\n",
    "df['Key'] = df['Manufacturer']+\"_\"+df['Model']+'_'+df['Type']"
   ]
  },
  {
   "cell_type": "code",
   "execution_count": null,
   "metadata": {},
   "outputs": [],
   "source": [
    "df['Key'].is_unique"
   ]
  },
  {
   "cell_type": "code",
   "execution_count": 47,
   "metadata": {},
   "outputs": [],
   "source": [
    "df = pd.DataFrame(np.random.randint(1,100, 40).reshape(10, -1))"
   ]
  },
  {
   "cell_type": "code",
   "execution_count": null,
   "metadata": {},
   "outputs": [],
   "source": [
    "df"
   ]
  },
  {
   "cell_type": "code",
   "execution_count": 56,
   "metadata": {},
   "outputs": [],
   "source": [
    "df = pd.DataFrame(np.random.randint(1,100, 40).reshape(10, -1))"
   ]
  },
  {
   "cell_type": "code",
   "execution_count": null,
   "metadata": {},
   "outputs": [],
   "source": [
    "df"
   ]
  },
  {
   "cell_type": "code",
   "execution_count": null,
   "metadata": {},
   "outputs": [],
   "source": [
    "range(df.shape[0])[:-1]"
   ]
  },
  {
   "cell_type": "code",
   "execution_count": null,
   "metadata": {},
   "outputs": [],
   "source": [
    "range(4)"
   ]
  },
  {
   "cell_type": "code",
   "execution_count": 64,
   "metadata": {},
   "outputs": [],
   "source": [
    "df = pd.DataFrame({'col1': ['apple', 'banana', 'orange'] * 3,\n",
    "                   'col2': np.random.rand(9),\n",
    "                   'col3': np.random.randint(0, 15, 9)})"
   ]
  },
  {
   "cell_type": "code",
   "execution_count": null,
   "metadata": {},
   "outputs": [],
   "source": [
    "df"
   ]
  },
  {
   "cell_type": "code",
   "execution_count": 82,
   "metadata": {},
   "outputs": [],
   "source": [
    "g = df.groupby('col1')"
   ]
  },
  {
   "cell_type": "code",
   "execution_count": null,
   "metadata": {},
   "outputs": [],
   "source": [
    "g['col3'].agg('mean')"
   ]
  },
  {
   "cell_type": "code",
   "execution_count": 94,
   "metadata": {},
   "outputs": [],
   "source": [
    "df1 = pd.DataFrame({'fruit': ['apple', 'banana', 'orange'] * 3,\n",
    "                    'weight': ['high', 'medium', 'low'] * 3,\n",
    "                    'price': np.random.randint(0, 15, 9)})\n",
    "\n",
    "df2 = pd.DataFrame({'pazham': ['apple', 'orange', 'pine'] * 2,\n",
    "                    'kilo': ['high', 'low'] * 3,\n",
    "                    'price': np.random.randint(0, 15, 6)})"
   ]
  },
  {
   "cell_type": "code",
   "execution_count": null,
   "metadata": {},
   "outputs": [],
   "source": [
    "df1"
   ]
  },
  {
   "cell_type": "code",
   "execution_count": null,
   "metadata": {},
   "outputs": [],
   "source": [
    "df2"
   ]
  },
  {
   "cell_type": "code",
   "execution_count": null,
   "metadata": {},
   "outputs": [],
   "source": [
    "df1.merge(df2, left_on= ['fruit', 'weight'], right_on= ['pazham', 'kilo'], how= 'left')"
   ]
  },
  {
   "cell_type": "code",
   "execution_count": 105,
   "metadata": {},
   "outputs": [],
   "source": [
    "# Input\n",
    "df1 = pd.DataFrame({'fruit': ['apple', 'orange', 'banana'] * 3,\n",
    "                    'weight': ['high', 'medium', 'low'] * 3,\n",
    "                    'price': np.arange(9)})\n",
    "\n",
    "df2 = pd.DataFrame({'fruit': ['apple', 'orange', 'pine'] * 2,\n",
    "                    'weight': ['high', 'medium'] * 3,\n",
    "                    'price': np.arange(6)})\n",
    "\n",
    "\n"
   ]
  },
  {
   "cell_type": "code",
   "execution_count": null,
   "metadata": {},
   "outputs": [],
   "source": [
    "df1.isin(df2).all(1)"
   ]
  },
  {
   "cell_type": "code",
   "execution_count": null,
   "metadata": {},
   "outputs": [],
   "source": [
    "print(df1[~df1.isin(df2).all(1)])\n"
   ]
  },
  {
   "cell_type": "code",
   "execution_count": 111,
   "metadata": {},
   "outputs": [],
   "source": [
    "df = pd.DataFrame({'fruit1': np.random.choice(['apple', 'orange', 'banana'], 10),\n",
    "                    'fruit2': np.random.choice(['apple', 'orange', 'banana'], 10)})\n"
   ]
  },
  {
   "cell_type": "code",
   "execution_count": null,
   "metadata": {},
   "outputs": [],
   "source": [
    "df"
   ]
  },
  {
   "cell_type": "code",
   "execution_count": null,
   "metadata": {},
   "outputs": [],
   "source": []
  },
  {
   "cell_type": "code",
   "execution_count": null,
   "metadata": {},
   "outputs": [],
   "source": []
  },
  {
   "cell_type": "code",
   "execution_count": null,
   "metadata": {},
   "outputs": [],
   "source": [
    "max(3,5)"
   ]
  },
  {
   "cell_type": "code",
   "execution_count": null,
   "metadata": {},
   "outputs": [],
   "source": [
    "word1 = 'hello'\n",
    "word2 = 'test'\n",
    "\n",
    "l_w = []\n",
    "for a,b in zip(word1,word2):\n",
    "    l_w.append(a+b)\n",
    "\n",
    "print(l_w)\n",
    "\n",
    "l_w.append(word1[len(word2):])\n",
    "\n",
    "print(l_w)\n",
    "l_w.append(word2[len(word1):])\n",
    "\n",
    "print(l_w)\n",
    "\n",
    "s=\"\".join(l_w)\n",
    "print(s)"
   ]
  },
  {
   "cell_type": "code",
   "execution_count": null,
   "metadata": {},
   "outputs": [],
   "source": [
    "word2[len(word1):]"
   ]
  },
  {
   "cell_type": "code",
   "execution_count": null,
   "metadata": {},
   "outputs": [],
   "source": [
    "for i in range(1, 20,3):\n",
    "    print(i)"
   ]
  },
  {
   "cell_type": "code",
   "execution_count": null,
   "metadata": {},
   "outputs": [],
   "source": [
    "l = [1,2,3,4,5,6]\n",
    "\n",
    "for i in range(1, len(l)-1):\n",
    "    print(l[i])"
   ]
  },
  {
   "cell_type": "code",
   "execution_count": null,
   "metadata": {},
   "outputs": [],
   "source": [
    "l[-2]"
   ]
  },
  {
   "cell_type": "code",
   "execution_count": null,
   "metadata": {},
   "outputs": [],
   "source": [
    "l = [1,2,3,4]\n",
    "\n",
    "for i in l[::-1]:\n",
    "    print(i)"
   ]
  },
  {
   "cell_type": "code",
   "execution_count": null,
   "metadata": {},
   "outputs": [],
   "source": [
    "nums = [1,2,3,4,5,6]\n",
    "\n",
    "l = [1]*len(nums)\n",
    "c = 1\n",
    "for i in range(len(nums)):\n",
    "    l[i] = c \n",
    "    c = c*nums[i]\n",
    "\n",
    "postfix = 1\n",
    "for i in range(len(nums)-1,-1,-1):\n",
    "    l[i] = l[i]*postfix\n",
    "    postfix = postfix*nums[i]\n",
    "\n",
    "l "
   ]
  },
  {
   "cell_type": "code",
   "execution_count": 28,
   "metadata": {},
   "outputs": [],
   "source": []
  },
  {
   "cell_type": "code",
   "execution_count": null,
   "metadata": {},
   "outputs": [],
   "source": [
    "nums = [0,1,0,3,12]\n",
    "p = 0\n",
    "l = []\n",
    "for i in nums:\n",
    "    if i == 0:\n",
    "        l.append(i)\n",
    "        nums.remove(i)\n",
    "nums.extend(l)\n",
    "\n",
    "nums"
   ]
  },
  {
   "cell_type": "code",
   "execution_count": null,
   "metadata": {},
   "outputs": [],
   "source": [
    "nums = [0,0,1]\n",
    "\n",
    "c = 0\n",
    "\n",
    "for i in range(len(nums)):\n",
    "    if nums[i] !=0:\n",
    "        nums[c] , nums[i] = nums[i], nums[c]\n",
    "        c +=1\n",
    "\n",
    "nums"
   ]
  },
  {
   "cell_type": "code",
   "execution_count": null,
   "metadata": {},
   "outputs": [],
   "source": [
    "s = \"abc\"\n",
    "t = \"ahbgdc\"\n",
    "count = 0\n",
    "for i in t:\n",
    "    if i in s:\n",
    "        count +=1\n",
    "if count >= len(s):\n",
    "    print(True)\n",
    "else:\n",
    "    print(False)\n"
   ]
  },
  {
   "cell_type": "code",
   "execution_count": null,
   "metadata": {},
   "outputs": [],
   "source": [
    "s = \"abc\"\n",
    "t = \"ahbgdc\"\n",
    "c = 1\n",
    "for i in range(len(s)):\n",
    "    for j in range(len(t)):\n",
    "        if s[i] ==t[j]:\n",
    "            if c>= i:\n",
    "                c +=1\n",
    "\n",
    "if c>= len(s):\n",
    "    print(\"T\")\n",
    "else:\n",
    "    print(\"F\") \n",
    "\n",
    "\n",
    "\n",
    "\n",
    "    print(i)"
   ]
  },
  {
   "cell_type": "code",
   "execution_count": null,
   "metadata": {},
   "outputs": [],
   "source": []
  },
  {
   "cell_type": "markdown",
   "metadata": {},
   "source": [
    "# Gen AI Project "
   ]
  },
  {
   "cell_type": "code",
   "execution_count": 2,
   "metadata": {},
   "outputs": [],
   "source": [
    "import json\n",
    "import pandas as pd"
   ]
  },
  {
   "cell_type": "code",
   "execution_count": 3,
   "metadata": {},
   "outputs": [
    {
     "name": "stdout",
     "output_type": "stream",
     "text": [
      "{'reviewerID': 'A3F73SC1LY51OO', 'asin': 'B00002243X', 'reviewerName': 'Alan Montgomery', 'helpful': [4, 4], 'reviewText': \"I needed a set of jumper cables for my new car and these had good reviews and were at a good price.  They have been used a few times already and do what they are supposed to - no complaints there.What I will say is that 12 feet really isn't an ideal length.  Sure, if you pull up front bumper to front bumper they are plenty long, but a lot of times you will be beside another car or can't get really close.  Because of this, I would recommend something a little longer than 12'.Great brand - get 16' version though.\", 'overall': 5.0, 'summary': 'Work Well - Should Have Bought Longer Ones', 'unixReviewTime': 1313539200, 'reviewTime': '08 17, 2011'}\n"
     ]
    }
   ],
   "source": [
    "\n",
    "\n",
    "# Open the file and load the JSON content\n",
    "file_path = 'src/input/Dataset for DS Case Study.json'\n",
    "\n",
    "# Open and read the file\n",
    "with open(file_path, 'r') as file:\n",
    "    data = [json.loads(line) for line in file]\n",
    "\n",
    "# Output the first entry for verification\n",
    "print(data[0])  # Displays the first review\n",
    "\n"
   ]
  },
  {
   "cell_type": "code",
   "execution_count": 4,
   "metadata": {},
   "outputs": [
    {
     "data": {
      "text/html": [
       "<div>\n",
       "<style scoped>\n",
       "    .dataframe tbody tr th:only-of-type {\n",
       "        vertical-align: middle;\n",
       "    }\n",
       "\n",
       "    .dataframe tbody tr th {\n",
       "        vertical-align: top;\n",
       "    }\n",
       "\n",
       "    .dataframe thead th {\n",
       "        text-align: right;\n",
       "    }\n",
       "</style>\n",
       "<table border=\"1\" class=\"dataframe\">\n",
       "  <thead>\n",
       "    <tr style=\"text-align: right;\">\n",
       "      <th></th>\n",
       "      <th>reviewerID</th>\n",
       "      <th>asin</th>\n",
       "      <th>reviewerName</th>\n",
       "      <th>helpful</th>\n",
       "      <th>reviewText</th>\n",
       "      <th>overall</th>\n",
       "      <th>summary</th>\n",
       "      <th>unixReviewTime</th>\n",
       "      <th>reviewTime</th>\n",
       "    </tr>\n",
       "  </thead>\n",
       "  <tbody>\n",
       "    <tr>\n",
       "      <th>0</th>\n",
       "      <td>A3F73SC1LY51OO</td>\n",
       "      <td>B00002243X</td>\n",
       "      <td>Alan Montgomery</td>\n",
       "      <td>[4, 4]</td>\n",
       "      <td>I needed a set of jumper cables for my new car...</td>\n",
       "      <td>5.0</td>\n",
       "      <td>Work Well - Should Have Bought Longer Ones</td>\n",
       "      <td>1313539200</td>\n",
       "      <td>08 17, 2011</td>\n",
       "    </tr>\n",
       "    <tr>\n",
       "      <th>1</th>\n",
       "      <td>A20S66SKYXULG2</td>\n",
       "      <td>B00002243X</td>\n",
       "      <td>alphonse</td>\n",
       "      <td>[1, 1]</td>\n",
       "      <td>These long cables work fine for my truck, but ...</td>\n",
       "      <td>4.0</td>\n",
       "      <td>Okay long cables</td>\n",
       "      <td>1315094400</td>\n",
       "      <td>09 4, 2011</td>\n",
       "    </tr>\n",
       "    <tr>\n",
       "      <th>2</th>\n",
       "      <td>A2I8LFSN2IS5EO</td>\n",
       "      <td>B00002243X</td>\n",
       "      <td>Chris</td>\n",
       "      <td>[0, 0]</td>\n",
       "      <td>Can't comment much on these since they have no...</td>\n",
       "      <td>5.0</td>\n",
       "      <td>Looks and feels heavy Duty</td>\n",
       "      <td>1374710400</td>\n",
       "      <td>07 25, 2013</td>\n",
       "    </tr>\n",
       "    <tr>\n",
       "      <th>3</th>\n",
       "      <td>A3GT2EWQSO45ZG</td>\n",
       "      <td>B00002243X</td>\n",
       "      <td>DeusEx</td>\n",
       "      <td>[19, 19]</td>\n",
       "      <td>I absolutley love Amazon!!!  For the price of ...</td>\n",
       "      <td>5.0</td>\n",
       "      <td>Excellent choice for Jumper Cables!!!</td>\n",
       "      <td>1292889600</td>\n",
       "      <td>12 21, 2010</td>\n",
       "    </tr>\n",
       "    <tr>\n",
       "      <th>4</th>\n",
       "      <td>A3ESWJPAVRPWB4</td>\n",
       "      <td>B00002243X</td>\n",
       "      <td>E. Hernandez</td>\n",
       "      <td>[0, 0]</td>\n",
       "      <td>I purchased the 12' feet long cable set and th...</td>\n",
       "      <td>5.0</td>\n",
       "      <td>Excellent, High Quality Starter Cables</td>\n",
       "      <td>1341360000</td>\n",
       "      <td>07 4, 2012</td>\n",
       "    </tr>\n",
       "  </tbody>\n",
       "</table>\n",
       "</div>"
      ],
      "text/plain": [
       "       reviewerID        asin     reviewerName   helpful  \\\n",
       "0  A3F73SC1LY51OO  B00002243X  Alan Montgomery    [4, 4]   \n",
       "1  A20S66SKYXULG2  B00002243X         alphonse    [1, 1]   \n",
       "2  A2I8LFSN2IS5EO  B00002243X            Chris    [0, 0]   \n",
       "3  A3GT2EWQSO45ZG  B00002243X           DeusEx  [19, 19]   \n",
       "4  A3ESWJPAVRPWB4  B00002243X     E. Hernandez    [0, 0]   \n",
       "\n",
       "                                          reviewText  overall  \\\n",
       "0  I needed a set of jumper cables for my new car...      5.0   \n",
       "1  These long cables work fine for my truck, but ...      4.0   \n",
       "2  Can't comment much on these since they have no...      5.0   \n",
       "3  I absolutley love Amazon!!!  For the price of ...      5.0   \n",
       "4  I purchased the 12' feet long cable set and th...      5.0   \n",
       "\n",
       "                                      summary  unixReviewTime   reviewTime  \n",
       "0  Work Well - Should Have Bought Longer Ones      1313539200  08 17, 2011  \n",
       "1                            Okay long cables      1315094400   09 4, 2011  \n",
       "2                  Looks and feels heavy Duty      1374710400  07 25, 2013  \n",
       "3       Excellent choice for Jumper Cables!!!      1292889600  12 21, 2010  \n",
       "4      Excellent, High Quality Starter Cables      1341360000   07 4, 2012  "
      ]
     },
     "execution_count": 4,
     "metadata": {},
     "output_type": "execute_result"
    }
   ],
   "source": [
    "df =pd.DataFrame(data)\n",
    "df.head(5)"
   ]
  },
  {
   "cell_type": "code",
   "execution_count": 5,
   "metadata": {},
   "outputs": [
    {
     "data": {
      "text/plain": [
       "(100, 9)"
      ]
     },
     "execution_count": 5,
     "metadata": {},
     "output_type": "execute_result"
    }
   ],
   "source": [
    "df.shape"
   ]
  },
  {
   "cell_type": "code",
   "execution_count": 6,
   "metadata": {},
   "outputs": [
    {
     "data": {
      "text/html": [
       "<div>\n",
       "<style scoped>\n",
       "    .dataframe tbody tr th:only-of-type {\n",
       "        vertical-align: middle;\n",
       "    }\n",
       "\n",
       "    .dataframe tbody tr th {\n",
       "        vertical-align: top;\n",
       "    }\n",
       "\n",
       "    .dataframe thead th {\n",
       "        text-align: right;\n",
       "    }\n",
       "</style>\n",
       "<table border=\"1\" class=\"dataframe\">\n",
       "  <thead>\n",
       "    <tr style=\"text-align: right;\">\n",
       "      <th></th>\n",
       "      <th>reviewText</th>\n",
       "      <th>cleaned_reviewText</th>\n",
       "    </tr>\n",
       "  </thead>\n",
       "  <tbody>\n",
       "    <tr>\n",
       "      <th>0</th>\n",
       "      <td>I needed a set of jumper cables for my new car...</td>\n",
       "      <td>i needed a set of jumper cables for my new car...</td>\n",
       "    </tr>\n",
       "    <tr>\n",
       "      <th>1</th>\n",
       "      <td>These long cables work fine for my truck, but ...</td>\n",
       "      <td>these long cables work fine for my truck but t...</td>\n",
       "    </tr>\n",
       "    <tr>\n",
       "      <th>2</th>\n",
       "      <td>Can't comment much on these since they have no...</td>\n",
       "      <td>cant comment much on these since they have not...</td>\n",
       "    </tr>\n",
       "    <tr>\n",
       "      <th>3</th>\n",
       "      <td>I absolutley love Amazon!!!  For the price of ...</td>\n",
       "      <td>i absolutley love amazon for the price of a se...</td>\n",
       "    </tr>\n",
       "    <tr>\n",
       "      <th>4</th>\n",
       "      <td>I purchased the 12' feet long cable set and th...</td>\n",
       "      <td>i purchased the 12 feet long cable set and the...</td>\n",
       "    </tr>\n",
       "    <tr>\n",
       "      <th>5</th>\n",
       "      <td>These Jumper cables are heavy Duty, Yet easy t...</td>\n",
       "      <td>these jumper cables are heavy duty yet easy to...</td>\n",
       "    </tr>\n",
       "    <tr>\n",
       "      <th>6</th>\n",
       "      <td>bought these for my k2500 suburban plenty of l...</td>\n",
       "      <td>bought these for my k2500 suburban plenty of l...</td>\n",
       "    </tr>\n",
       "    <tr>\n",
       "      <th>7</th>\n",
       "      <td>these are good enough to get most motorized ve...</td>\n",
       "      <td>these are good enough to get most motorized ve...</td>\n",
       "    </tr>\n",
       "    <tr>\n",
       "      <th>8</th>\n",
       "      <td>The Coleman Cable 08665 12-Feet Heavy-Duty Tru...</td>\n",
       "      <td>the coleman cable 08665 12feet heavyduty truck...</td>\n",
       "    </tr>\n",
       "    <tr>\n",
       "      <th>9</th>\n",
       "      <td>I have an old car, Its bound to need these som...</td>\n",
       "      <td>i have an old car its bound to need these some...</td>\n",
       "    </tr>\n",
       "    <tr>\n",
       "      <th>10</th>\n",
       "      <td>I seem to use jumper cables at least several t...</td>\n",
       "      <td>i seem to use jumper cables at least several t...</td>\n",
       "    </tr>\n",
       "    <tr>\n",
       "      <th>11</th>\n",
       "      <td>All other jumper cables are not real jumper ca...</td>\n",
       "      <td>all other jumper cables are not real jumper ca...</td>\n",
       "    </tr>\n",
       "    <tr>\n",
       "      <th>12</th>\n",
       "      <td>I'm one of those guys who stops and helps peop...</td>\n",
       "      <td>im one of those guys who stops and helps peopl...</td>\n",
       "    </tr>\n",
       "    <tr>\n",
       "      <th>13</th>\n",
       "      <td>So these aren't the best cables you can buy.  ...</td>\n",
       "      <td>so these arent the best cables you can buy for...</td>\n",
       "    </tr>\n",
       "    <tr>\n",
       "      <th>14</th>\n",
       "      <td>It is hard to find pure copper cabled jumper c...</td>\n",
       "      <td>it is hard to find pure copper cabled jumper c...</td>\n",
       "    </tr>\n",
       "    <tr>\n",
       "      <th>15</th>\n",
       "      <td>These are an insurance policy for my Land Rove...</td>\n",
       "      <td>these are an insurance policy for my land rove...</td>\n",
       "    </tr>\n",
       "    <tr>\n",
       "      <th>16</th>\n",
       "      <td>This product serves its purpose. I use it for ...</td>\n",
       "      <td>this product serves its purpose i use it for h...</td>\n",
       "    </tr>\n",
       "    <tr>\n",
       "      <th>17</th>\n",
       "      <td>Hitch extender is good for Kayak transport and...</td>\n",
       "      <td>hitch extender is good for kayak transport and...</td>\n",
       "    </tr>\n",
       "    <tr>\n",
       "      <th>18</th>\n",
       "      <td></td>\n",
       "      <td></td>\n",
       "    </tr>\n",
       "  </tbody>\n",
       "</table>\n",
       "</div>"
      ],
      "text/plain": [
       "                                           reviewText  \\\n",
       "0   I needed a set of jumper cables for my new car...   \n",
       "1   These long cables work fine for my truck, but ...   \n",
       "2   Can't comment much on these since they have no...   \n",
       "3   I absolutley love Amazon!!!  For the price of ...   \n",
       "4   I purchased the 12' feet long cable set and th...   \n",
       "5   These Jumper cables are heavy Duty, Yet easy t...   \n",
       "6   bought these for my k2500 suburban plenty of l...   \n",
       "7   these are good enough to get most motorized ve...   \n",
       "8   The Coleman Cable 08665 12-Feet Heavy-Duty Tru...   \n",
       "9   I have an old car, Its bound to need these som...   \n",
       "10  I seem to use jumper cables at least several t...   \n",
       "11  All other jumper cables are not real jumper ca...   \n",
       "12  I'm one of those guys who stops and helps peop...   \n",
       "13  So these aren't the best cables you can buy.  ...   \n",
       "14  It is hard to find pure copper cabled jumper c...   \n",
       "15  These are an insurance policy for my Land Rove...   \n",
       "16  This product serves its purpose. I use it for ...   \n",
       "17  Hitch extender is good for Kayak transport and...   \n",
       "18                                                      \n",
       "\n",
       "                                   cleaned_reviewText  \n",
       "0   i needed a set of jumper cables for my new car...  \n",
       "1   these long cables work fine for my truck but t...  \n",
       "2   cant comment much on these since they have not...  \n",
       "3   i absolutley love amazon for the price of a se...  \n",
       "4   i purchased the 12 feet long cable set and the...  \n",
       "5   these jumper cables are heavy duty yet easy to...  \n",
       "6   bought these for my k2500 suburban plenty of l...  \n",
       "7   these are good enough to get most motorized ve...  \n",
       "8   the coleman cable 08665 12feet heavyduty truck...  \n",
       "9   i have an old car its bound to need these some...  \n",
       "10  i seem to use jumper cables at least several t...  \n",
       "11  all other jumper cables are not real jumper ca...  \n",
       "12  im one of those guys who stops and helps peopl...  \n",
       "13  so these arent the best cables you can buy for...  \n",
       "14  it is hard to find pure copper cabled jumper c...  \n",
       "15  these are an insurance policy for my land rove...  \n",
       "16  this product serves its purpose i use it for h...  \n",
       "17  hitch extender is good for kayak transport and...  \n",
       "18                                                     "
      ]
     },
     "execution_count": 6,
     "metadata": {},
     "output_type": "execute_result"
    }
   ],
   "source": [
    "import re\n",
    "\n",
    "# Fill NaN values with empty strings\n",
    "df['reviewText'] = df['reviewText'].fillna('')\n",
    "\n",
    "# Function to clean text\n",
    "def clean_text(text):\n",
    "    text = text.lower()  # Lowercase\n",
    "    text = re.sub(r'\\s+', ' ', text)  # Remove extra spaces\n",
    "    text = re.sub(r'[^\\w\\s]', '', text)  # Remove punctuation\n",
    "    return text\n",
    "\n",
    "# Apply cleaning\n",
    "df['cleaned_reviewText'] = df['reviewText'].apply(clean_text)\n",
    "\n",
    "df[['reviewText', 'cleaned_reviewText']].head(19)\n"
   ]
  },
  {
   "cell_type": "code",
   "execution_count": 24,
   "metadata": {},
   "outputs": [],
   "source": [
    "# ! pip install spacy\n",
    "# !python -m spacy download en_core_web_lg\n",
    "# !python -m spacy download en_core_web_lg \n",
    "\n"
   ]
  },
  {
   "cell_type": "code",
   "execution_count": 8,
   "metadata": {},
   "outputs": [],
   "source": [
    "import openai\n",
    "import os\n",
    "import re\n",
    "import ast\n",
    "import time\n",
    "\n",
    "openai.api_key = os.getenv(\"OPENAI_API_KEY\")"
   ]
  },
  {
   "cell_type": "code",
   "execution_count": 9,
   "metadata": {},
   "outputs": [],
   "source": [
    "labels = [\n",
    "    \"person\",      # people, including fictional characters\n",
    "    \"fac\",         # buildings, airports, highways, bridges\n",
    "    \"org\",         # organizations, companies, agencies, institutions\n",
    "    \"gpe\",         # geopolitical entities like countries, cities, states\n",
    "    \"loc\",         # non-gpe locations\n",
    "    \"product\",     # vehicles, foods, appareal, appliances, software, toys \n",
    "    \"event\",       # named sports, scientific milestones, historical events\n",
    "    \"work_of_art\", # titles of books, songs, movies\n",
    "    \"law\",         # named laws, acts, or legislations\n",
    "    \"language\",    # any named language\n",
    "    \"date\",        # absolute or relative dates or periods\n",
    "    \"time\",        # time units smaller than a day\n",
    "    \"percent\",     # percentage (e.g., \"twenty percent\", \"18%\")\n",
    "    \"money\",       # monetary values, including unit\n",
    "    \"quantity\",    # measurements, e.g., weight or distance\n",
    "    \"automobile\",  # name (e.g., brand or model names)\n",
    "    \"Components\",   #(e.g., engine, tires, steering wheel, etc.)\n",
    "    \n",
    "\n",
    "\n",
    "]"
   ]
  },
  {
   "cell_type": "code",
   "execution_count": 10,
   "metadata": {},
   "outputs": [],
   "source": [
    "def ner(free_text): \n",
    "     # Define a prompt to instruct the model to extract entities\n",
    "    prompt = f\"\"\"\n",
    "    Extract all possible named entities from the following text:\n",
    "\n",
    "    Text: \\\"{free_text}\\\"\n",
    "\n",
    "    Entities should include people, organizations, locations, products, and any other relevant categories.\n",
    "    Return the entities in a JSON format with their category (e.g., \"person\", \"organization\", \"location\", \"product\").\n",
    "    \"\"\"\n",
    "\n",
    "    # Make the API call to extract entities\n",
    "    response = openai.chat.completions.create(\n",
    "        model=\"gpt-4o-mini\",\n",
    "        messages=[\n",
    "            {\"role\": \"system\", \"content\": \"Extract all possible named entities from the following text:\"},\n",
    "            {\"role\": \"user\", \"content\": f\"Entities should include {labels}, and any other relevant categories. \"},\n",
    "            {\"role\": \"assistant\", \"content\": \"\"\"Return only the entities in a JSON format with their category (e.g., \"person\", \"organization\", \"location\", \"product\"). no extra text , connects of not available keep it null\"\"\"},\n",
    "            {\"role\": \"user\", \"content\": f\"{free_text}\"}\n",
    "  ]\n",
    "       \n",
    "    )\n",
    "\n",
    "    # Get the model's response\n",
    "    entities = response.choices[0].message.content\n",
    "    time.sleep(2)\n",
    "\n",
    "    return entities\n",
    "\n",
    "\n"
   ]
  },
  {
   "cell_type": "code",
   "execution_count": 11,
   "metadata": {},
   "outputs": [],
   "source": [
    "df['NER_Tagging'] = df['reviewText'].apply(ner)"
   ]
  },
  {
   "cell_type": "code",
   "execution_count": 12,
   "metadata": {},
   "outputs": [],
   "source": [
    "def clean_json(text):\n",
    "    try:\n",
    "        print(json.loads(text[8:-4]))\n",
    "        return  json.loads(text[8:-4])\n",
    "    except:\n",
    "        print(json.loads(text[:]))\n",
    "        return  json.loads(text[:])\n"
   ]
  },
  {
   "cell_type": "code",
   "execution_count": 13,
   "metadata": {},
   "outputs": [
    {
     "name": "stdout",
     "output_type": "stream",
     "text": [
      "{'product': 'jumper cables', 'automobile': 'car', 'quantity': \"16'\", 'percent': None, 'date': None, 'time': None, 'money': None, 'gpe': None, 'loc': None, 'person': None, 'fac': None, 'org': None, 'event': None, 'work_of_art': None, 'law': None, 'language': None}\n",
      "{'person': None, 'fac': None, 'org': ['Harbor Freight'], 'gpe': None, 'loc': None, 'product': ['jumper cables'], 'event': None, 'work_of_art': None, 'law': None, 'language': None, 'date': None, 'time': None, 'percent': None, 'money': ['200 dollar', '30 bucks'], 'quantity': None, 'automobile': ['truck'], 'Components': None}\n",
      "{'entities': [{'name': 'October 2023', 'category': 'date'}, {'name': 'truck', 'category': 'automobile'}, {'name': 'travel trailer', 'category': 'automobile'}, {'name': 'bucket boss 06009 jumper cable bag', 'category': 'product'}, {'name': '30-45 minutes', 'category': 'time'}]}\n",
      "{'entities': [{'name': 'Amazon', 'category': 'org'}, {'name': 'Booster/Jumper Cables', 'category': 'product'}, {'name': '12VDC', 'category': 'quantity'}, {'name': '5', 'category': 'quantity'}, {'name': '300', 'category': 'quantity'}, {'name': \"25'\", 'category': 'quantity'}, {'name': '6-liters', 'category': 'quantity'}, {'name': '2-ga', 'category': 'quantity'}, {'name': '3 to 5 minutes', 'category': 'time'}, {'name': 'LAST', 'category': 'law'}, {'name': 'NEG', 'category': 'law'}, {'name': 'dead battery', 'category': 'event'}, {'name': 'auto parts store', 'category': 'org'}]}\n",
      "{'person': None, 'fac': None, 'org': None, 'gpe': None, 'loc': None, 'product': \"12' feet long cable set\", 'event': None, 'work_of_art': None, 'law': None, 'language': None, 'date': None, 'time': None, 'percent': None, 'money': None, 'quantity': '12', 'automobile': 'truck', 'Components': 'retail cardboard box'}\n",
      "{'entities': [{'name': 'Jumper cables', 'category': 'product'}, {'name': 'Utilimaster', 'category': 'automobile'}, {'name': 'Diesel', 'category': None}, {'name': 'Emergency', 'category': None}, {'name': '25 feet', 'category': 'quantity'}]}\n",
      "{'entities': [{'name': 'k2500 suburban', 'category': 'automobile'}, {'name': None, 'category': 'person'}, {'name': None, 'category': 'fac'}, {'name': None, 'category': 'org'}, {'name': None, 'category': 'gpe'}, {'name': None, 'category': 'loc'}, {'name': None, 'category': 'product'}, {'name': None, 'category': 'event'}, {'name': None, 'category': 'work_of_art'}, {'name': None, 'category': 'law'}, {'name': None, 'category': 'language'}, {'name': None, 'category': 'date'}, {'name': None, 'category': 'time'}, {'name': None, 'category': 'percent'}, {'name': None, 'category': 'money'}, {'name': None, 'category': 'quantity'}, {'name': None, 'category': 'Components'}]}\n",
      "{'person': None, 'fac': None, 'org': None, 'gpe': None, 'loc': None, 'product': ['motorized vehicles', 'semi equipment', 'farm equipment', 'solid copper'], 'event': None, 'work_of_art': None, 'law': None, 'language': None, 'date': None, 'time': None, 'percent': None, 'money': None, 'quantity': None, 'automobile': None, 'Components': None}\n",
      "{'entities': [{'name': 'Coleman Cable', 'category': 'org'}, {'name': '08665', 'category': 'product'}, {'name': '12-Feet Heavy-Duty Truck and Auto Battery Booster', 'category': 'product'}, {'name': 'Arsenal 5888', 'category': 'product'}]}\n",
      "{'entities': [{'name': 'car', 'category': 'automobile'}, {'name': 'truck', 'category': 'automobile'}, {'name': \"20'\", 'category': 'quantity'}, {'name': 'jump', 'category': None}, {'name': 'review', 'category': None}, {'name': 'boss', 'category': 'person'}]}\n",
      "{'person': None, 'fac': None, 'org': None, 'gpe': None, 'loc': None, 'product': 'jumper cables', 'event': None, 'work_of_art': None, 'law': None, 'language': None, 'date': None, 'time': None, 'percent': None, 'money': None, 'quantity': \"20'\", 'automobile': 'car', 'Components': ['aluminum wire', 'consumer grade']}\n",
      "{'person': ['dad', 'Truck drivers'], 'fac': None, 'org': None, 'gpe': None, 'loc': ['Amazon river', 'parking lot'], 'product': ['jumper cables', 'copper', 'extension cord', 'spare tire'], 'event': None, 'work_of_art': None, 'law': None, 'language': None, 'date': None, 'time': None, 'percent': None, 'money': ['$17', '$5'], 'quantity': [\"25'\", \"20'\", '2 gauge', '4 gauge', '6 gauge', '10 foot', '18 gauge', '500amps', '14lbs', '14 POUNDS'], 'automobile': ['Semi'], 'Components': ['Copper inserts', 'Parrot clamp']}\n",
      "{'person': None, 'fac': None, 'org': None, 'gpe': None, 'loc': None, 'product': 'cables', 'event': None, 'work_of_art': None, 'law': None, 'language': None, 'date': None, 'time': None, 'percent': None, 'money': None, 'quantity': None, 'automobile': None, 'Components': 'Strong clamps'}\n",
      "{'person': None, 'fac': None, 'org': None, 'gpe': None, 'loc': None, 'product': ['2ga booster cables', '4ga cables', 'Deka', 'jumper cables', \"Coleman 4ga 25' booster cables\", 'Arsenal #5888 cable organizer'], 'event': None, 'work_of_art': None, 'law': None, 'language': None, 'date': None, 'time': None, 'percent': None, 'money': ['$150', '$200+', '$100'], 'quantity': ['3', '5', '2', '4', \"50'\", \"6'\", \"25'\"], 'automobile': ['half-ton pickup', '3 ton vehicle', '5.7L V8', 'small-block', '5-liters', '6L'], 'Components': None}\n",
      "{'person': None, 'fac': None, 'org': None, 'gpe': None, 'loc': None, 'product': 'copper cabled jumper cables', 'event': None, 'work_of_art': None, 'law': None, 'language': None, 'date': None, 'time': None, 'percent': None, 'money': None, 'quantity': None, 'automobile': None, 'Components': None}\n",
      "{'entities': [{'name': 'Land Rover', 'category': 'automobile'}, {'name': None, 'category': 'person'}, {'name': None, 'category': 'fac'}, {'name': None, 'category': 'org'}, {'name': None, 'category': 'gpe'}, {'name': None, 'category': 'loc'}, {'name': None, 'category': 'product'}, {'name': None, 'category': 'event'}, {'name': None, 'category': 'work_of_art'}, {'name': None, 'category': 'law'}, {'name': None, 'category': 'language'}, {'name': None, 'category': 'date'}, {'name': None, 'category': 'time'}, {'name': None, 'category': 'percent'}, {'name': None, 'category': 'money'}, {'name': None, 'category': 'quantity'}, {'name': None, 'category': 'Components'}]}\n",
      "{'entities': [{'name': 'cabin', 'category': 'loc'}, {'name': '$30', 'category': 'money'}, {'name': 'ratchet straps', 'category': 'product'}, {'name': 'truck', 'category': 'automobile'}]}\n",
      "{'entities': [{'name': 'Hitch extender', 'category': 'product'}, {'name': 'Kayak', 'category': 'product'}, {'name': 'Tee', 'category': None}, {'name': 'Rope', 'category': None}, {'name': 'Bunge Cords', 'category': None}, {'name': 'Garage', 'category': 'loc'}, {'name': \"Yo lil' mamma\", 'category': 'person'}, {'name': 'cabin', 'category': None}, {'name': 'rack', 'category': None}, {'name': 'ladder', 'category': None}, {'name': 'frame', 'category': None}, {'name': 'yakkers', 'category': 'person'}]}\n",
      "{'date': 'October 2023', 'person': None, 'fac': None, 'org': None, 'gpe': None, 'loc': None, 'product': None, 'event': None, 'work_of_art': None, 'law': None, 'language': None, 'time': None, 'percent': None, 'money': None, 'quantity': None, 'automobile': None, 'Components': None}\n",
      "{'entities': [{'name': 'F150 crew cab truck', 'category': 'automobile'}, {'name': 'paddle board', 'category': 'product'}, {'name': None, 'category': 'person'}, {'name': None, 'category': 'fac'}, {'name': None, 'category': 'org'}, {'name': None, 'category': 'gpe'}, {'name': None, 'category': 'loc'}, {'name': None, 'category': 'event'}, {'name': None, 'category': 'work_of_art'}, {'name': None, 'category': 'law'}, {'name': None, 'category': 'language'}, {'name': None, 'category': 'date'}, {'name': None, 'category': 'time'}, {'name': None, 'category': 'percent'}, {'name': None, 'category': 'money'}, {'name': None, 'category': 'quantity'}, {'name': None, 'category': 'Components'}]}\n",
      "{'person': None, 'fac': None, 'org': None, 'gpe': None, 'loc': None, 'product': 'fishing kayak', 'event': None, 'work_of_art': None, 'law': None, 'language': None, 'date': None, 'time': None, 'percent': None, 'money': None, 'quantity': None, 'automobile': 'F-150', 'Components': None}\n",
      "{'person': None, 'fac': None, 'org': 'Amazon', 'gpe': None, 'loc': None, 'product': 'kayaks', 'event': None, 'work_of_art': None, 'law': None, 'language': None, 'date': None, 'time': None, 'percent': None, 'money': None, 'quantity': None, 'automobile': None, 'Components': None}\n",
      "{'person': None, 'fac': None, 'org': None, 'gpe': None, 'loc': None, 'product': ['trucks', 'kayaks', 'extender', 'tubing', 'cross bar', 'racks', 'bed extender'], 'event': None, 'work_of_art': None, 'law': None, 'language': None, 'date': None, 'time': None, 'percent': None, 'money': None, 'quantity': [\"6.5'\", \"14'\", '3'], 'automobile': None, 'Components': None}\n",
      "{'person': None, 'fac': None, 'org': None, 'gpe': None, 'loc': None, 'product': 'duster', 'event': None, 'work_of_art': None, 'law': None, 'language': None, 'date': None, 'time': None, 'percent': None, 'money': None, 'quantity': None, 'automobile': 'car', 'Components': None}\n",
      "{'person': None, 'fac': None, 'org': None, 'gpe': None, 'loc': None, 'product': 'this product', 'event': None, 'work_of_art': None, 'law': None, 'language': None, 'date': None, 'time': None, 'percent': None, 'money': None, 'quantity': None, 'automobile': None, 'Components': None}\n",
      "{'product': 'detailing microfiber towels', 'org': ['Viking', 'Cobra'], 'person': None, 'fac': None, 'gpe': None, 'loc': None, 'event': None, 'work_of_art': None, 'law': None, 'language': None, 'date': None, 'time': None, 'percent': None, 'money': None, 'quantity': None, 'automobile': None, 'Components': None}\n",
      "{'entities': [{'name': 'Original California Car Duster', 'category': 'product'}, {'name': None, 'category': 'person'}, {'name': None, 'category': 'fac'}, {'name': None, 'category': 'org'}, {'name': None, 'category': 'gpe'}, {'name': None, 'category': 'loc'}, {'name': None, 'category': 'event'}, {'name': None, 'category': 'work_of_art'}, {'name': None, 'category': 'law'}, {'name': None, 'category': 'language'}, {'name': None, 'category': 'date'}, {'name': None, 'category': 'time'}, {'name': None, 'category': 'percent'}, {'name': None, 'category': 'money'}, {'name': None, 'category': 'quantity'}, {'name': None, 'category': 'automobile'}, {'name': None, 'category': 'Components'}]}\n",
      "{'entities': [{'category': 'automobile', 'value': 'car'}, {'category': 'product', 'value': 'S100 car wax'}, {'category': 'event', 'value': 'detailing work'}, {'category': 'quantity', 'value': '3 hours'}, {'category': 'time', 'value': 'every few months'}, {'category': 'work_of_art', 'value': 'good car clay'}]}\n",
      "{'person': None, 'fac': None, 'org': None, 'gpe': None, 'loc': None, 'product': 'car', 'event': None, 'work_of_art': None, 'law': None, 'language': None, 'date': None, 'time': None, 'percent': None, 'money': None, 'quantity': None, 'automobile': None, 'Components': None}\n",
      "{'entities': [{'name': 'car duster', 'category': 'product'}, {'name': 'two years', 'category': 'time'}]}\n",
      "{'person': None, 'fac': None, 'org': None, 'gpe': None, 'loc': None, 'product': 'duster', 'event': None, 'work_of_art': None, 'law': None, 'language': None, 'date': None, 'time': None, 'percent': None, 'money': None, 'quantity': None, 'automobile': 'car', 'Components': None}\n",
      "{'person': None, 'fac': None, 'org': 'company', 'gpe': None, 'loc': None, 'product': 'black car', 'event': None, 'work_of_art': None, 'law': None, 'language': None, 'date': None, 'time': None, 'percent': '10 out of 10', 'money': None, 'quantity': None, 'automobile': 'black car', 'Components': None}\n",
      "{'entities': [{'name': 'California Car Duster', 'category': 'product'}, {'name': 'car', 'category': 'automobile'}, {'name': None, 'category': None}]}\n",
      "{'person': None, 'fac': None, 'org': None, 'gpe': None, 'loc': None, 'product': 'rides', 'event': None, 'work_of_art': None, 'law': None, 'language': None, 'date': None, 'time': None, 'percent': None, 'money': None, 'quantity': None, 'automobile': None, 'Components': None}\n",
      "{'person': None, 'fac': None, 'org': None, 'gpe': 'California', 'loc': None, 'product': 'California Duster', 'event': None, 'work_of_art': None, 'law': None, 'language': None, 'date': None, 'time': None, 'percent': None, 'money': None, 'quantity': '15 years', 'automobile': 'car', 'Components': None}\n",
      "{'person': None, 'fac': None, 'org': None, 'gpe': None, 'loc': None, 'product': 'car', 'event': None, 'work_of_art': None, 'law': None, 'language': None, 'date': None, 'time': None, 'percent': None, 'money': None, 'quantity': None, 'automobile': 'car', 'Components': None}\n",
      "{'product': 'cleaning product', 'event': 'Hurricane Irene', 'date': 'this past summer', 'fac': None, 'org': None, 'gpe': None, 'loc': None, 'work_of_art': None, 'law': None, 'language': None, 'time': None, 'percent': None, 'money': None, 'quantity': None, 'automobile': 'car', 'Components': None}\n",
      "{'person': None, 'fac': None, 'org': None, 'gpe': None, 'loc': None, 'product': 'dirtier', 'event': None, 'work_of_art': None, 'law': None, 'language': None, 'date': None, 'time': None, 'percent': None, 'money': None, 'quantity': None, 'automobile': 'car', 'Components': None}\n",
      "{'entities': [{'name': 'black car', 'category': 'automobile'}, {'name': 'product', 'category': 'product'}]}\n",
      "{'person': None, 'fac': None, 'org': None, 'gpe': None, 'loc': None, 'product': ['California Duster', 'liquid instant detailer', 'microfiber cloth'], 'event': None, 'work_of_art': None, 'law': None, 'language': None, 'date': None, 'time': None, 'percent': None, 'money': None, 'quantity': ['2 minutes'], 'automobile': None, 'Components': ['plastic handle', 'wood handle']}\n",
      "{'entities': [{'text': 'five star rating', 'category': 'percent'}, {'text': 'California', 'category': 'gpe'}, {'text': '15 yrs', 'category': 'time'}, {'text': '5 yrs', 'category': 'time'}, {'text': 'work truck', 'category': 'automobile'}, {'text': 'wife', 'category': 'person'}, {'text': 'wooden handle', 'category': 'product'}, {'text': '48 hrs', 'category': 'time'}, {'text': 'streaks', 'category': None}, {'text': 'product', 'category': 'product'}]}\n",
      "{'person': None, 'fac': None, 'org': None, 'gpe': None, 'loc': None, 'product': None, 'event': None, 'work_of_art': None, 'law': None, 'language': None, 'date': None, 'time': None, 'percent': None, 'money': None, 'quantity': '10', 'automobile': 'car', 'Components': None}\n",
      "{'person': None, 'fac': None, 'org': None, 'gpe': None, 'loc': None, 'product': ['Harley', 'California Duster'], 'event': None, 'work_of_art': None, 'law': None, 'language': None, 'date': None, 'time': None, 'percent': None, 'money': None, 'quantity': None, 'automobile': None, 'Components': None}\n",
      "{'person': None, 'fac': None, 'org': ['VW'], 'gpe': None, 'loc': None, 'product': ['mk4 Beetles', 'mini california duster'], 'event': None, 'work_of_art': None, 'law': None, 'language': None, 'date': None, 'time': None, 'percent': None, 'money': None, 'quantity': None, 'automobile': None, 'Components': None}\n",
      "{'person': None, 'fac': None, 'org': None, 'gpe': None, 'loc': None, 'product': 'it', 'event': None, 'work_of_art': None, 'law': None, 'language': None, 'date': None, 'time': None, 'percent': None, 'money': None, 'quantity': None, 'automobile': None, 'Components': None}\n",
      "{'person': None, 'fac': None, 'org': None, 'gpe': None, 'loc': None, 'product': 'car cleaning product', 'event': None, 'work_of_art': None, 'law': None, 'language': None, 'date': None, 'time': None, 'percent': None, 'money': None, 'quantity': None, 'automobile': 'car', 'Components': None}\n",
      "{'person': None, 'fac': None, 'org': None, 'gpe': 'California', 'loc': None, 'product': ['California duster'], 'event': None, 'work_of_art': None, 'law': None, 'language': None, 'date': None, 'time': None, 'percent': None, 'money': None, 'quantity': None, 'automobile': 'black car', 'Components': None}\n",
      "{'person': None, 'fac': None, 'org': None, 'gpe': None, 'loc': None, 'product': '2013 Evo x gsr', 'event': None, 'work_of_art': None, 'law': None, 'language': None, 'date': '2013', 'time': None, 'percent': None, 'money': None, 'quantity': None, 'automobile': None, 'Components': None}\n",
      "{'person': None, 'fac': None, 'org': None, 'gpe': 'California', 'loc': None, 'product': ['California Duster', '2014 Subaru XV Crosstrek', 'microfiber cloth', 'duster'], 'event': None, 'work_of_art': None, 'law': None, 'language': None, 'date': None, 'time': None, 'percent': None, 'money': '$4.63', 'quantity': None, 'automobile': '2014 Subaru XV Crosstrek', 'Components': None}\n",
      "{'person': None, 'fac': None, 'org': None, 'gpe': None, 'loc': None, 'product': 'air intake hose', 'event': None, 'work_of_art': None, 'law': None, 'language': None, 'date': None, 'time': None, 'percent': None, 'money': None, 'quantity': None, 'automobile': None, 'Components': None}\n",
      "{'person': None, 'fac': None, 'org': None, 'gpe': None, 'loc': None, 'product': 'scanner', 'event': None, 'work_of_art': None, 'law': None, 'language': None, 'date': None, 'time': None, 'percent': None, 'money': None, 'quantity': None, 'automobile': 'auto', 'Components': None}\n",
      "{'entities': [{'name': 'Acton scanner', 'category': 'product'}, {'name': 'MIL (Malfunction Indicator Lamp)', 'category': None}, {'name': 'O2 sensor heater trouble', 'category': None}, {'name': 'cylinder', 'category': None}, {'name': 'fuel injector', 'category': None}, {'name': 'OBD scanner', 'category': 'product'}, {'name': '$89', 'category': 'money'}, {'name': None, 'category': None}]}\n",
      "{'entities': [{'name': 'Actron', 'category': 'org'}, {'name': 'autoscanner tool', 'category': 'product'}, {'name': 'PM001', 'category': None}, {'name': 'Cylinder Misfire', 'category': None}, {'name': 'car', 'category': 'automobile'}]}\n",
      "{'person': ['husband'], 'fac': None, 'org': ['Actron'], 'gpe': None, 'loc': None, 'product': ['Actron CP9135'], 'event': None, 'work_of_art': None, 'law': None, 'language': None, 'date': ['Dec 20, 2007'], 'time': None, 'percent': None, 'money': ['$50', '$109'], 'quantity': ['6th'], 'automobile': None, 'Components': None}\n",
      "{'person': ['Mr. Wizard'], 'fac': None, 'org': None, 'gpe': None, 'loc': 'Oz', 'product': ['crystal ball'], 'event': None, 'work_of_art': None, 'law': None, 'language': None, 'date': None, 'time': None, 'percent': None, 'money': None, 'quantity': None, 'automobile': None, 'Components': None}\n",
      "{'person': None, 'fac': None, 'org': None, 'gpe': None, 'loc': None, 'product': None, 'event': None, 'work_of_art': None, 'law': None, 'language': None, 'date': None, 'time': None, 'percent': None, 'money': None, 'quantity': 'two', 'automobile': None, 'Components': None}\n",
      "{'person': None, 'fac': None, 'org': None, 'gpe': None, 'loc': None, 'product': None, 'event': None, 'work_of_art': None, 'law': None, 'language': None, 'date': None, 'time': None, 'percent': None, 'money': None, 'quantity': None, 'automobile': None, 'Components': None}\n",
      "{'entities': [{'name': 'diffusers', 'category': 'product'}, {'name': 'vent lever', 'category': 'product'}]}\n",
      "{'person': None, 'fac': None, 'org': None, 'gpe': None, 'loc': None, 'product': 'air deflector', 'event': None, 'work_of_art': None, 'law': None, 'language': None, 'date': None, 'time': None, 'percent': None, 'money': None, 'quantity': '2 pieces', 'automobile': None, 'Components': None}\n",
      "{'product': 'air deflector', 'date': None, 'time': None, 'person': None, 'fac': None, 'org': None, 'gpe': None, 'loc': None, 'event': None, 'work_of_art': None, 'law': None, 'language': None, 'percent': None, 'money': None, 'quantity': '12\"', 'automobile': None, 'Components': None}\n",
      "{'product': 'this product', 'person': None, 'fac': None, 'org': None, 'gpe': None, 'loc': None, 'event': None, 'work_of_art': None, 'law': None, 'language': None, 'date': None, 'time': None, 'percent': None, 'money': None, 'quantity': None, 'automobile': None, 'Components': None}\n",
      "{'person': None, 'fac': None, 'org': None, 'gpe': None, 'loc': None, 'product': 'deflector', 'event': None, 'work_of_art': None, 'law': None, 'language': None, 'date': None, 'time': None, 'percent': None, 'money': None, 'quantity': None, 'automobile': None, 'Components': None}\n",
      "{'person': ['parents'], 'fac': None, 'org': None, 'gpe': None, 'loc': None, 'product': ['ceiling vent', 'magnet'], 'event': None, 'work_of_art': None, 'law': None, 'language': None, 'date': None, 'time': None, 'percent': None, 'money': None, 'quantity': None, 'automobile': None, 'Components': None}\n",
      "{'person': None, 'fac': None, 'org': None, 'gpe': None, 'loc': None, 'product': 'deflector', 'event': None, 'work_of_art': None, 'law': None, 'language': None, 'date': None, 'time': None, 'percent': None, 'money': None, 'quantity': None, 'automobile': None, 'Components': None}\n",
      "{'person': None, 'fac': None, 'org': ['Amazon'], 'gpe': None, 'loc': ['HVAC', 'house'], 'product': ['unbreakable box', 'HVAC registers'], 'event': None, 'work_of_art': None, 'law': None, 'language': None, 'date': None, 'time': None, 'percent': None, 'money': None, 'quantity': {'count': 2}, 'automobile': None, 'Components': None}\n",
      "{'entities': [{'name': 'Deflecto vents', 'category': 'product'}, {'name': 'heavy duty plastic', 'category': None}, {'name': 'local home depot', 'category': 'org'}, {'name': 'lowes', 'category': 'org'}]}\n",
      "{'person': None, 'fac': None, 'org': [{'name': \"Lowe's\", 'category': 'org'}], 'gpe': None, 'loc': None, 'product': [{'name': 'air deflectors', 'category': 'product'}, {'name': 'metal register', 'category': 'product'}], 'event': None, 'work_of_art': None, 'law': None, 'language': None, 'date': [{'name': '20 years ago', 'category': 'date'}], 'time': None, 'percent': None, 'money': None, 'quantity': None, 'automobile': None, 'Components': None}\n",
      "{'person': None, 'fac': None, 'org': None, 'gpe': None, 'loc': None, 'product': 'spare tire lock', 'event': None, 'work_of_art': None, 'law': None, 'language': None, 'date': None, 'time': None, 'percent': None, 'money': None, 'quantity': None, 'automobile': 'utility trailer', 'Components': None}\n",
      "{'person': None, 'fac': None, 'org': None, 'gpe': None, 'loc': None, 'product': ['Wrangler spare', 'cable lock', 'locking lug nut'], 'event': None, 'work_of_art': None, 'law': None, 'language': None, 'date': None, 'time': None, 'percent': None, 'money': None, 'quantity': None, 'automobile': None, 'Components': None}\n",
      "{'person': None, 'fac': None, 'org': None, 'gpe': None, 'loc': None, 'product': 'boat trailer', 'event': None, 'work_of_art': None, 'law': None, 'language': None, 'date': None, 'time': None, 'percent': None, 'money': None, 'quantity': None, 'automobile': None, 'Components': None}\n",
      "{'person': None, 'fac': None, 'org': None, 'gpe': None, 'loc': None, 'product': ['battery', 'propane tank'], 'event': None, 'work_of_art': None, 'law': None, 'language': None, 'date': None, 'time': None, 'percent': None, 'money': None, 'quantity': None, 'automobile': None, 'Components': None}\n",
      "{'person': None, 'fac': None, 'org': 'Smitybilt', 'gpe': None, 'loc': None, 'product': 'tire carrier', 'event': None, 'work_of_art': None, 'law': None, 'language': None, 'date': None, 'time': None, 'percent': None, 'money': '$1750', 'quantity': '5', 'automobile': None, 'Components': None}\n",
      "{'person': None, 'fac': None, 'org': None, 'gpe': None, 'loc': None, 'product': 'lock', 'event': None, 'work_of_art': None, 'law': None, 'language': None, 'date': None, 'time': None, 'percent': None, 'money': None, 'quantity': None, 'automobile': None, 'Components': None}\n",
      "{'person': None, 'fac': None, 'org': None, 'gpe': None, 'loc': None, 'product': '90 4runner', 'event': None, 'work_of_art': None, 'law': None, 'language': None, 'date': None, 'time': None, 'percent': None, 'money': None, 'quantity': None, 'automobile': '4runner', 'Components': None}\n",
      "{'entities': [{'name': 'masterlock', 'category': 'product'}, {'name': 'curt', 'category': 'org'}]}\n",
      "{'person': None, 'fac': None, 'org': None, 'gpe': None, 'loc': None, 'product': 'stainless steel design', 'event': None, 'work_of_art': None, 'law': None, 'language': None, 'date': None, 'time': None, 'percent': None, 'money': None, 'quantity': None, 'automobile': None, 'Components': ['O-rings', 'rubber cap']}\n",
      "{'person': None, 'fac': None, 'org': None, 'gpe': None, 'loc': 'China', 'product': 'locks', 'event': None, 'work_of_art': None, 'law': None, 'language': None, 'date': None, 'time': None, 'percent': None, 'money': None, 'quantity': None, 'automobile': None, 'Components': None}\n",
      "{'person': None, 'fac': None, 'org': None, 'gpe': 'Four Corners', 'loc': 'NM', 'product': 'lock set', 'event': None, 'work_of_art': None, 'law': None, 'language': None, 'date': None, 'time': None, 'percent': None, 'money': None, 'quantity': None, 'automobile': None, 'Components': None}\n",
      "{'entities': [{'category': 'product', 'value': 'metal'}, {'category': 'product', 'value': 'rust-resistant'}, {'category': 'automobile', 'value': 'truck'}]}\n",
      "{'entities': [{'name': 'Maine', 'category': 'gpe'}, {'name': 'Florida', 'category': 'gpe'}, {'name': '250 miles', 'category': 'quantity'}, {'name': '2 in 1 glass cleaner', 'category': 'product'}]}\n",
      "{'person': None, 'fac': None, 'org': None, 'gpe': None, 'loc': None, 'product': 'treatment', 'event': None, 'work_of_art': None, 'law': None, 'language': None, 'date': None, 'time': 'two days', 'percent': None, 'money': None, 'quantity': None, 'automobile': None, 'Components': None}\n",
      "{'person': None, 'fac': None, 'org': None, 'gpe': None, 'loc': None, 'product': None, 'event': None, 'work_of_art': None, 'law': None, 'language': None, 'date': None, 'time': None, 'percent': None, 'money': None, 'quantity': None, 'automobile': None, 'Components': None}\n",
      "{'entities': [{'name': 'Rain X', 'category': 'product'}, {'name': 'windshield', 'category': None}, {'name': 'cold weather', 'category': None}, {'name': 'back window', 'category': None}, {'name': 'microfiber', 'category': None}, {'name': 'paper towel', 'category': None}, {'name': 'windshield', 'category': None}]}\n",
      "{'person': None, 'fac': None, 'org': None, 'gpe': None, 'loc': None, 'product': 'product', 'event': None, 'work_of_art': None, 'law': None, 'language': None, 'date': None, 'time': None, 'percent': None, 'money': None, 'quantity': 'LOT', 'automobile': None, 'Components': None}\n",
      "{'entities': [{'name': 'windshield', 'category': 'product'}, {'name': 'wiper blades', 'category': 'product'}, {'name': 'raindrops', 'category': None}, {'name': 'lights', 'category': None}, {'name': 'cars', 'category': None}, {'name': 'streetlights', 'category': None}, {'name': 'water', 'category': None}, {'name': 'bottle', 'category': 'product'}, {'name': 'first one', 'category': None}]}\n",
      "{'entities': [{'name': 'rain-x', 'category': 'product'}, {'name': None, 'category': 'automobile'}, {'name': None, 'category': 'automobile'}]}\n",
      "{'person': None, 'fac': None, 'org': None, 'gpe': None, 'loc': None, 'product': 'stuff', 'event': None, 'work_of_art': None, 'law': None, 'language': None, 'date': None, 'time': None, 'percent': None, 'money': None, 'quantity': None, 'automobile': None, 'Components': None}\n",
      "{'product': 'windshield glass treatment', 'date': None, 'time': None, 'person': None, 'fac': None, 'org': None, 'gpe': None, 'loc': None, 'event': None, 'work_of_art': None, 'law': None, 'language': None, 'percent': None, 'money': None, 'quantity': '3 months', 'automobile': 'vehicles', 'Components': None}\n",
      "{'Entities': [{'name': 'rain-x', 'category': 'product'}, {'name': None, 'category': 'person'}, {'name': None, 'category': 'fac'}, {'name': None, 'category': 'org'}, {'name': None, 'category': 'gpe'}, {'name': None, 'category': 'loc'}, {'name': None, 'category': 'event'}, {'name': None, 'category': 'work_of_art'}, {'name': None, 'category': 'law'}, {'name': None, 'category': 'language'}, {'name': None, 'category': 'date'}, {'name': None, 'category': 'time'}, {'name': None, 'category': 'percent'}, {'name': None, 'category': 'money'}, {'name': None, 'category': 'quantity'}, {'name': None, 'category': 'automobile'}, {'name': None, 'category': 'Components'}]}\n",
      "{'entities': [{'text': 'So Cal', 'category': 'gpe'}, {'text': None, 'category': 'product'}, {'text': None, 'category': 'time'}]}\n",
      "{'person': None, 'fac': None, 'org': None, 'gpe': None, 'loc': None, 'product': 'RainX', 'event': None, 'work_of_art': None, 'law': None, 'language': None, 'date': None, 'time': None, 'percent': None, 'money': None, 'quantity': None, 'automobile': None, 'Components': None}\n",
      "{'person': None, 'fac': None, 'org': None, 'gpe': None, 'loc': None, 'product': 'glass treatment', 'event': None, 'work_of_art': None, 'law': None, 'language': None, 'date': None, 'time': None, 'percent': None, 'money': None, 'quantity': None, 'automobile': None, 'Components': None}\n",
      "{'product': 'Rain-X 800002243 Glass Treatment', 'quantity': '7 oz', 'person': None, 'fac': None, 'org': None, 'gpe': None, 'loc': None, 'event': None, 'work_of_art': None, 'law': None, 'language': None, 'date': None, 'time': None, 'percent': None, 'money': None, 'automobile': None, 'Components': None}\n",
      "{'person': None, 'fac': None, 'org': None, 'gpe': None, 'loc': None, 'product': 'wipers', 'event': None, 'work_of_art': None, 'law': None, 'language': None, 'date': None, 'time': None, 'percent': None, 'money': None, 'quantity': None, 'automobile': None, 'Components': None}\n",
      "{'product': 'RainX wiper blades', 'person': None, 'fac': None, 'org': None, 'gpe': None, 'loc': None, 'event': None, 'work_of_art': None, 'law': None, 'language': None, 'date': None, 'time': None, 'percent': None, 'money': None, 'quantity': None, 'automobile': None, 'Components': None}\n",
      "{'entities': [{'name': 'Rain-X', 'category': 'org'}, {'name': None, 'category': 'person'}, {'name': None, 'category': 'fac'}, {'name': None, 'category': 'gpe'}, {'name': None, 'category': 'loc'}, {'name': None, 'category': 'product'}, {'name': None, 'category': 'event'}, {'name': None, 'category': 'work_of_art'}, {'name': None, 'category': 'law'}, {'name': None, 'category': 'language'}, {'name': None, 'category': 'date'}, {'name': None, 'category': 'time'}, {'name': None, 'category': 'percent'}, {'name': None, 'category': 'money'}, {'name': None, 'category': 'quantity'}, {'name': None, 'category': 'automobile'}, {'name': None, 'category': 'Components'}]}\n",
      "{'person': None, 'fac': None, 'org': None, 'gpe': None, 'loc': None, 'product': 'paper towel', 'event': None, 'work_of_art': None, 'law': None, 'language': None, 'date': None, 'time': None, 'percent': None, 'money': None, 'quantity': '2-3 weeks', 'automobile': 'windshield', 'Components': None}\n",
      "{'person': None, 'fac': None, 'org': None, 'gpe': None, 'loc': None, 'product': 'cable lock', 'event': None, 'work_of_art': None, 'law': None, 'language': None, 'date': None, 'time': None, 'percent': None, 'money': 'five bucks', 'quantity': None, 'automobile': 'utility trailer', 'Components': None}\n",
      "{'product': 'Master Lock 262 DAT Chrome Lug Nut Style Spare Tire Lock', 'person': None, 'fac': None, 'org': None, 'gpe': None, 'loc': None, 'event': None, 'work_of_art': None, 'law': None, 'language': None, 'date': None, 'time': None, 'percent': None, 'money': None, 'quantity': None, 'automobile': None, 'Components': None}\n",
      "{'person': None, 'fac': None, 'org': None, 'gpe': None, 'loc': None, 'product': 'lug nuts', 'event': None, 'work_of_art': None, 'law': None, 'language': None, 'date': None, 'time': None, 'percent': None, 'money': None, 'quantity': None, 'automobile': None, 'Components': None}\n"
     ]
    },
    {
     "data": {
      "text/plain": [
       "0     {'product': 'jumper cables', 'automobile': 'ca...\n",
       "1     {'person': None, 'fac': None, 'org': ['Harbor ...\n",
       "2     {'entities': [{'name': 'October 2023', 'catego...\n",
       "3     {'entities': [{'name': 'Amazon', 'category': '...\n",
       "4     {'person': None, 'fac': None, 'org': None, 'gp...\n",
       "                            ...                        \n",
       "95    {'entities': [{'name': 'Rain-X', 'category': '...\n",
       "96    {'person': None, 'fac': None, 'org': None, 'gp...\n",
       "97    {'person': None, 'fac': None, 'org': None, 'gp...\n",
       "98    {'product': 'Master Lock 262 DAT Chrome Lug Nu...\n",
       "99    {'person': None, 'fac': None, 'org': None, 'gp...\n",
       "Name: JSON_clean, Length: 100, dtype: object"
      ]
     },
     "execution_count": 13,
     "metadata": {},
     "output_type": "execute_result"
    }
   ],
   "source": [
    "df['JSON_clean'] = df['NER_Tagging'].apply(clean_json)\n",
    "df['JSON_clean'] "
   ]
  },
  {
   "cell_type": "code",
   "execution_count": 14,
   "metadata": {},
   "outputs": [
    {
     "data": {
      "text/html": [
       "<div>\n",
       "<style scoped>\n",
       "    .dataframe tbody tr th:only-of-type {\n",
       "        vertical-align: middle;\n",
       "    }\n",
       "\n",
       "    .dataframe tbody tr th {\n",
       "        vertical-align: top;\n",
       "    }\n",
       "\n",
       "    .dataframe thead th {\n",
       "        text-align: right;\n",
       "    }\n",
       "</style>\n",
       "<table border=\"1\" class=\"dataframe\">\n",
       "  <thead>\n",
       "    <tr style=\"text-align: right;\">\n",
       "      <th></th>\n",
       "      <th>reviewerID</th>\n",
       "      <th>asin</th>\n",
       "      <th>reviewerName</th>\n",
       "      <th>helpful</th>\n",
       "      <th>reviewText</th>\n",
       "      <th>overall</th>\n",
       "      <th>summary</th>\n",
       "      <th>unixReviewTime</th>\n",
       "      <th>reviewTime</th>\n",
       "      <th>cleaned_reviewText</th>\n",
       "      <th>...</th>\n",
       "      <th>fac</th>\n",
       "      <th>org</th>\n",
       "      <th>event</th>\n",
       "      <th>work_of_art</th>\n",
       "      <th>law</th>\n",
       "      <th>language</th>\n",
       "      <th>Components</th>\n",
       "      <th>entities</th>\n",
       "      <th>quantity.count</th>\n",
       "      <th>Entities</th>\n",
       "    </tr>\n",
       "  </thead>\n",
       "  <tbody>\n",
       "    <tr>\n",
       "      <th>0</th>\n",
       "      <td>A3F73SC1LY51OO</td>\n",
       "      <td>B00002243X</td>\n",
       "      <td>Alan Montgomery</td>\n",
       "      <td>[4, 4]</td>\n",
       "      <td>I needed a set of jumper cables for my new car...</td>\n",
       "      <td>5.0</td>\n",
       "      <td>Work Well - Should Have Bought Longer Ones</td>\n",
       "      <td>1313539200</td>\n",
       "      <td>08 17, 2011</td>\n",
       "      <td>i needed a set of jumper cables for my new car...</td>\n",
       "      <td>...</td>\n",
       "      <td>NaN</td>\n",
       "      <td>None</td>\n",
       "      <td>None</td>\n",
       "      <td>NaN</td>\n",
       "      <td>NaN</td>\n",
       "      <td>NaN</td>\n",
       "      <td>NaN</td>\n",
       "      <td>NaN</td>\n",
       "      <td>NaN</td>\n",
       "      <td>NaN</td>\n",
       "    </tr>\n",
       "    <tr>\n",
       "      <th>1</th>\n",
       "      <td>A20S66SKYXULG2</td>\n",
       "      <td>B00002243X</td>\n",
       "      <td>alphonse</td>\n",
       "      <td>[1, 1]</td>\n",
       "      <td>These long cables work fine for my truck, but ...</td>\n",
       "      <td>4.0</td>\n",
       "      <td>Okay long cables</td>\n",
       "      <td>1315094400</td>\n",
       "      <td>09 4, 2011</td>\n",
       "      <td>these long cables work fine for my truck but t...</td>\n",
       "      <td>...</td>\n",
       "      <td>NaN</td>\n",
       "      <td>[Harbor Freight]</td>\n",
       "      <td>None</td>\n",
       "      <td>NaN</td>\n",
       "      <td>NaN</td>\n",
       "      <td>NaN</td>\n",
       "      <td>None</td>\n",
       "      <td>NaN</td>\n",
       "      <td>NaN</td>\n",
       "      <td>NaN</td>\n",
       "    </tr>\n",
       "    <tr>\n",
       "      <th>2</th>\n",
       "      <td>A2I8LFSN2IS5EO</td>\n",
       "      <td>B00002243X</td>\n",
       "      <td>Chris</td>\n",
       "      <td>[0, 0]</td>\n",
       "      <td>Can't comment much on these since they have no...</td>\n",
       "      <td>5.0</td>\n",
       "      <td>Looks and feels heavy Duty</td>\n",
       "      <td>1374710400</td>\n",
       "      <td>07 25, 2013</td>\n",
       "      <td>cant comment much on these since they have not...</td>\n",
       "      <td>...</td>\n",
       "      <td>NaN</td>\n",
       "      <td>NaN</td>\n",
       "      <td>NaN</td>\n",
       "      <td>NaN</td>\n",
       "      <td>NaN</td>\n",
       "      <td>NaN</td>\n",
       "      <td>NaN</td>\n",
       "      <td>[{'name': 'October 2023', 'category': 'date'},...</td>\n",
       "      <td>NaN</td>\n",
       "      <td>NaN</td>\n",
       "    </tr>\n",
       "    <tr>\n",
       "      <th>3</th>\n",
       "      <td>A3GT2EWQSO45ZG</td>\n",
       "      <td>B00002243X</td>\n",
       "      <td>DeusEx</td>\n",
       "      <td>[19, 19]</td>\n",
       "      <td>I absolutley love Amazon!!!  For the price of ...</td>\n",
       "      <td>5.0</td>\n",
       "      <td>Excellent choice for Jumper Cables!!!</td>\n",
       "      <td>1292889600</td>\n",
       "      <td>12 21, 2010</td>\n",
       "      <td>i absolutley love amazon for the price of a se...</td>\n",
       "      <td>...</td>\n",
       "      <td>NaN</td>\n",
       "      <td>NaN</td>\n",
       "      <td>NaN</td>\n",
       "      <td>NaN</td>\n",
       "      <td>NaN</td>\n",
       "      <td>NaN</td>\n",
       "      <td>NaN</td>\n",
       "      <td>[{'name': 'Amazon', 'category': 'org'}, {'name...</td>\n",
       "      <td>NaN</td>\n",
       "      <td>NaN</td>\n",
       "    </tr>\n",
       "    <tr>\n",
       "      <th>4</th>\n",
       "      <td>A3ESWJPAVRPWB4</td>\n",
       "      <td>B00002243X</td>\n",
       "      <td>E. Hernandez</td>\n",
       "      <td>[0, 0]</td>\n",
       "      <td>I purchased the 12' feet long cable set and th...</td>\n",
       "      <td>5.0</td>\n",
       "      <td>Excellent, High Quality Starter Cables</td>\n",
       "      <td>1341360000</td>\n",
       "      <td>07 4, 2012</td>\n",
       "      <td>i purchased the 12 feet long cable set and the...</td>\n",
       "      <td>...</td>\n",
       "      <td>NaN</td>\n",
       "      <td>None</td>\n",
       "      <td>None</td>\n",
       "      <td>NaN</td>\n",
       "      <td>NaN</td>\n",
       "      <td>NaN</td>\n",
       "      <td>retail cardboard box</td>\n",
       "      <td>NaN</td>\n",
       "      <td>NaN</td>\n",
       "      <td>NaN</td>\n",
       "    </tr>\n",
       "    <tr>\n",
       "      <th>...</th>\n",
       "      <td>...</td>\n",
       "      <td>...</td>\n",
       "      <td>...</td>\n",
       "      <td>...</td>\n",
       "      <td>...</td>\n",
       "      <td>...</td>\n",
       "      <td>...</td>\n",
       "      <td>...</td>\n",
       "      <td>...</td>\n",
       "      <td>...</td>\n",
       "      <td>...</td>\n",
       "      <td>...</td>\n",
       "      <td>...</td>\n",
       "      <td>...</td>\n",
       "      <td>...</td>\n",
       "      <td>...</td>\n",
       "      <td>...</td>\n",
       "      <td>...</td>\n",
       "      <td>...</td>\n",
       "      <td>...</td>\n",
       "      <td>...</td>\n",
       "    </tr>\n",
       "    <tr>\n",
       "      <th>95</th>\n",
       "      <td>A1NDLSP4GCL3XD</td>\n",
       "      <td>B0000AXNMO</td>\n",
       "      <td>SeattleCirca1981 \"Circa1981\"</td>\n",
       "      <td>[47, 49]</td>\n",
       "      <td>Rain-X makes terrible wipers, but you don't ne...</td>\n",
       "      <td>5.0</td>\n",
       "      <td>Love Rain-X</td>\n",
       "      <td>1365724800</td>\n",
       "      <td>04 12, 2013</td>\n",
       "      <td>rainx makes terrible wipers but you dont need ...</td>\n",
       "      <td>...</td>\n",
       "      <td>NaN</td>\n",
       "      <td>NaN</td>\n",
       "      <td>NaN</td>\n",
       "      <td>NaN</td>\n",
       "      <td>NaN</td>\n",
       "      <td>NaN</td>\n",
       "      <td>NaN</td>\n",
       "      <td>[{'name': 'Rain-X', 'category': 'org'}, {'name...</td>\n",
       "      <td>NaN</td>\n",
       "      <td>NaN</td>\n",
       "    </tr>\n",
       "    <tr>\n",
       "      <th>96</th>\n",
       "      <td>A2O8LMXTUV715H</td>\n",
       "      <td>B0000AXNMO</td>\n",
       "      <td>Young NYer 10</td>\n",
       "      <td>[0, 0]</td>\n",
       "      <td>I never used this product, but have been told ...</td>\n",
       "      <td>5.0</td>\n",
       "      <td>Wow!</td>\n",
       "      <td>1381536000</td>\n",
       "      <td>10 12, 2013</td>\n",
       "      <td>i never used this product but have been told b...</td>\n",
       "      <td>...</td>\n",
       "      <td>NaN</td>\n",
       "      <td>None</td>\n",
       "      <td>None</td>\n",
       "      <td>NaN</td>\n",
       "      <td>NaN</td>\n",
       "      <td>NaN</td>\n",
       "      <td>None</td>\n",
       "      <td>NaN</td>\n",
       "      <td>NaN</td>\n",
       "      <td>NaN</td>\n",
       "    </tr>\n",
       "    <tr>\n",
       "      <th>97</th>\n",
       "      <td>A3FP9141P7DHT6</td>\n",
       "      <td>B0000AXPDU</td>\n",
       "      <td>Amazon Customer</td>\n",
       "      <td>[0, 0]</td>\n",
       "      <td>Bought this for my spare tire on my utility tr...</td>\n",
       "      <td>2.0</td>\n",
       "      <td>You get what you pay for.</td>\n",
       "      <td>1369872000</td>\n",
       "      <td>05 30, 2013</td>\n",
       "      <td>bought this for my spare tire on my utility tr...</td>\n",
       "      <td>...</td>\n",
       "      <td>NaN</td>\n",
       "      <td>None</td>\n",
       "      <td>None</td>\n",
       "      <td>NaN</td>\n",
       "      <td>NaN</td>\n",
       "      <td>NaN</td>\n",
       "      <td>None</td>\n",
       "      <td>NaN</td>\n",
       "      <td>NaN</td>\n",
       "      <td>NaN</td>\n",
       "    </tr>\n",
       "    <tr>\n",
       "      <th>98</th>\n",
       "      <td>A3LNC0DVTAAO7A</td>\n",
       "      <td>B0000AXPDU</td>\n",
       "      <td>Dave</td>\n",
       "      <td>[0, 0]</td>\n",
       "      <td>Master Lock 262 DAT Chrome Lug Nut Style Spare...</td>\n",
       "      <td>5.0</td>\n",
       "      <td>Master Lock</td>\n",
       "      <td>1368316800</td>\n",
       "      <td>05 12, 2013</td>\n",
       "      <td>master lock 262 dat chrome lug nut style spare...</td>\n",
       "      <td>...</td>\n",
       "      <td>NaN</td>\n",
       "      <td>None</td>\n",
       "      <td>None</td>\n",
       "      <td>NaN</td>\n",
       "      <td>NaN</td>\n",
       "      <td>NaN</td>\n",
       "      <td>None</td>\n",
       "      <td>NaN</td>\n",
       "      <td>NaN</td>\n",
       "      <td>NaN</td>\n",
       "    </tr>\n",
       "    <tr>\n",
       "      <th>99</th>\n",
       "      <td>A2UU3TQD379THD</td>\n",
       "      <td>B0000AXPDU</td>\n",
       "      <td>Desert Rat</td>\n",
       "      <td>[0, 1]</td>\n",
       "      <td>More for slowing down an amateur thief. Lug nu...</td>\n",
       "      <td>4.0</td>\n",
       "      <td>Adequate SUV spare tire lock</td>\n",
       "      <td>1393372800</td>\n",
       "      <td>02 26, 2014</td>\n",
       "      <td>more for slowing down an amateur thief lug nut...</td>\n",
       "      <td>...</td>\n",
       "      <td>NaN</td>\n",
       "      <td>None</td>\n",
       "      <td>None</td>\n",
       "      <td>NaN</td>\n",
       "      <td>NaN</td>\n",
       "      <td>NaN</td>\n",
       "      <td>None</td>\n",
       "      <td>NaN</td>\n",
       "      <td>NaN</td>\n",
       "      <td>NaN</td>\n",
       "    </tr>\n",
       "  </tbody>\n",
       "</table>\n",
       "<p>100 rows × 32 columns</p>\n",
       "</div>"
      ],
      "text/plain": [
       "        reviewerID        asin                  reviewerName   helpful  \\\n",
       "0   A3F73SC1LY51OO  B00002243X               Alan Montgomery    [4, 4]   \n",
       "1   A20S66SKYXULG2  B00002243X                      alphonse    [1, 1]   \n",
       "2   A2I8LFSN2IS5EO  B00002243X                         Chris    [0, 0]   \n",
       "3   A3GT2EWQSO45ZG  B00002243X                        DeusEx  [19, 19]   \n",
       "4   A3ESWJPAVRPWB4  B00002243X                  E. Hernandez    [0, 0]   \n",
       "..             ...         ...                           ...       ...   \n",
       "95  A1NDLSP4GCL3XD  B0000AXNMO  SeattleCirca1981 \"Circa1981\"  [47, 49]   \n",
       "96  A2O8LMXTUV715H  B0000AXNMO                 Young NYer 10    [0, 0]   \n",
       "97  A3FP9141P7DHT6  B0000AXPDU               Amazon Customer    [0, 0]   \n",
       "98  A3LNC0DVTAAO7A  B0000AXPDU                          Dave    [0, 0]   \n",
       "99  A2UU3TQD379THD  B0000AXPDU                    Desert Rat    [0, 1]   \n",
       "\n",
       "                                           reviewText  overall  \\\n",
       "0   I needed a set of jumper cables for my new car...      5.0   \n",
       "1   These long cables work fine for my truck, but ...      4.0   \n",
       "2   Can't comment much on these since they have no...      5.0   \n",
       "3   I absolutley love Amazon!!!  For the price of ...      5.0   \n",
       "4   I purchased the 12' feet long cable set and th...      5.0   \n",
       "..                                                ...      ...   \n",
       "95  Rain-X makes terrible wipers, but you don't ne...      5.0   \n",
       "96  I never used this product, but have been told ...      5.0   \n",
       "97  Bought this for my spare tire on my utility tr...      2.0   \n",
       "98  Master Lock 262 DAT Chrome Lug Nut Style Spare...      5.0   \n",
       "99  More for slowing down an amateur thief. Lug nu...      4.0   \n",
       "\n",
       "                                       summary  unixReviewTime   reviewTime  \\\n",
       "0   Work Well - Should Have Bought Longer Ones      1313539200  08 17, 2011   \n",
       "1                             Okay long cables      1315094400   09 4, 2011   \n",
       "2                   Looks and feels heavy Duty      1374710400  07 25, 2013   \n",
       "3        Excellent choice for Jumper Cables!!!      1292889600  12 21, 2010   \n",
       "4       Excellent, High Quality Starter Cables      1341360000   07 4, 2012   \n",
       "..                                         ...             ...          ...   \n",
       "95                                 Love Rain-X      1365724800  04 12, 2013   \n",
       "96                                        Wow!      1381536000  10 12, 2013   \n",
       "97                   You get what you pay for.      1369872000  05 30, 2013   \n",
       "98                                 Master Lock      1368316800  05 12, 2013   \n",
       "99                Adequate SUV spare tire lock      1393372800  02 26, 2014   \n",
       "\n",
       "                                   cleaned_reviewText  ... fac  \\\n",
       "0   i needed a set of jumper cables for my new car...  ... NaN   \n",
       "1   these long cables work fine for my truck but t...  ... NaN   \n",
       "2   cant comment much on these since they have not...  ... NaN   \n",
       "3   i absolutley love amazon for the price of a se...  ... NaN   \n",
       "4   i purchased the 12 feet long cable set and the...  ... NaN   \n",
       "..                                                ...  ...  ..   \n",
       "95  rainx makes terrible wipers but you dont need ...  ... NaN   \n",
       "96  i never used this product but have been told b...  ... NaN   \n",
       "97  bought this for my spare tire on my utility tr...  ... NaN   \n",
       "98  master lock 262 dat chrome lug nut style spare...  ... NaN   \n",
       "99  more for slowing down an amateur thief lug nut...  ... NaN   \n",
       "\n",
       "                 org event work_of_art law language            Components  \\\n",
       "0               None  None         NaN NaN      NaN                   NaN   \n",
       "1   [Harbor Freight]  None         NaN NaN      NaN                  None   \n",
       "2                NaN   NaN         NaN NaN      NaN                   NaN   \n",
       "3                NaN   NaN         NaN NaN      NaN                   NaN   \n",
       "4               None  None         NaN NaN      NaN  retail cardboard box   \n",
       "..               ...   ...         ...  ..      ...                   ...   \n",
       "95               NaN   NaN         NaN NaN      NaN                   NaN   \n",
       "96              None  None         NaN NaN      NaN                  None   \n",
       "97              None  None         NaN NaN      NaN                  None   \n",
       "98              None  None         NaN NaN      NaN                  None   \n",
       "99              None  None         NaN NaN      NaN                  None   \n",
       "\n",
       "                                             entities quantity.count Entities  \n",
       "0                                                 NaN            NaN      NaN  \n",
       "1                                                 NaN            NaN      NaN  \n",
       "2   [{'name': 'October 2023', 'category': 'date'},...            NaN      NaN  \n",
       "3   [{'name': 'Amazon', 'category': 'org'}, {'name...            NaN      NaN  \n",
       "4                                                 NaN            NaN      NaN  \n",
       "..                                                ...            ...      ...  \n",
       "95  [{'name': 'Rain-X', 'category': 'org'}, {'name...            NaN      NaN  \n",
       "96                                                NaN            NaN      NaN  \n",
       "97                                                NaN            NaN      NaN  \n",
       "98                                                NaN            NaN      NaN  \n",
       "99                                                NaN            NaN      NaN  \n",
       "\n",
       "[100 rows x 32 columns]"
      ]
     },
     "execution_count": 14,
     "metadata": {},
     "output_type": "execute_result"
    }
   ],
   "source": [
    "ner_tagging = pd.json_normalize(df['JSON_clean'])\n",
    "\n",
    "merge_pd = pd.merge(df,ner_tagging,left_index=True, right_index=True)\n",
    "\n",
    "merge_pd"
   ]
  },
  {
   "cell_type": "code",
   "execution_count": 15,
   "metadata": {},
   "outputs": [],
   "source": [
    "from openai import OpenAI\n",
    "\n",
    "client = OpenAI()"
   ]
  },
  {
   "cell_type": "code",
   "execution_count": 16,
   "metadata": {},
   "outputs": [],
   "source": [
    "def get_embedding(text, model=\"text-embedding-3-small\"):\n",
    "    response = client.embeddings.create(\n",
    "        input=text,\n",
    "        model=model\n",
    "    )\n",
    "    return response.data[0].embedding\n",
    "\n",
    "df['Embeddings'] = df['cleaned_reviewText'].apply(get_embedding)"
   ]
  },
  {
   "cell_type": "code",
   "execution_count": 17,
   "metadata": {},
   "outputs": [],
   "source": [
    "# similarity score\n",
    "from sklearn.metrics.pairwise import cosine_similarity\n",
    "import numpy as np\n",
    "\n",
    "def recommend_product(review_text,df,top_n=5):\n",
    "    input_embedding = get_embedding (review_text)\n",
    "    similarities = cosine_similarity([input_embedding], list(df['Embeddings']))\n",
    "    top_indices = np.argsort(similarities[0][::-1][:top_n])\n",
    "    return df.iloc[top_indices]"
   ]
  },
  {
   "cell_type": "code",
   "execution_count": 19,
   "metadata": {},
   "outputs": [
    {
     "data": {
      "text/html": [
       "<div>\n",
       "<style scoped>\n",
       "    .dataframe tbody tr th:only-of-type {\n",
       "        vertical-align: middle;\n",
       "    }\n",
       "\n",
       "    .dataframe tbody tr th {\n",
       "        vertical-align: top;\n",
       "    }\n",
       "\n",
       "    .dataframe thead th {\n",
       "        text-align: right;\n",
       "    }\n",
       "</style>\n",
       "<table border=\"1\" class=\"dataframe\">\n",
       "  <thead>\n",
       "    <tr style=\"text-align: right;\">\n",
       "      <th></th>\n",
       "      <th>reviewerID</th>\n",
       "      <th>asin</th>\n",
       "      <th>reviewerName</th>\n",
       "      <th>helpful</th>\n",
       "      <th>reviewText</th>\n",
       "      <th>overall</th>\n",
       "      <th>summary</th>\n",
       "      <th>unixReviewTime</th>\n",
       "      <th>reviewTime</th>\n",
       "      <th>cleaned_reviewText</th>\n",
       "      <th>NER_Tagging</th>\n",
       "      <th>JSON_clean</th>\n",
       "      <th>Embeddings</th>\n",
       "    </tr>\n",
       "  </thead>\n",
       "  <tbody>\n",
       "    <tr>\n",
       "      <th>0</th>\n",
       "      <td>A3F73SC1LY51OO</td>\n",
       "      <td>B00002243X</td>\n",
       "      <td>Alan Montgomery</td>\n",
       "      <td>[4, 4]</td>\n",
       "      <td>I needed a set of jumper cables for my new car...</td>\n",
       "      <td>5.0</td>\n",
       "      <td>Work Well - Should Have Bought Longer Ones</td>\n",
       "      <td>1313539200</td>\n",
       "      <td>08 17, 2011</td>\n",
       "      <td>i needed a set of jumper cables for my new car...</td>\n",
       "      <td>```json\\n{\\n  \"product\": \"jumper cables\",\\n  \"...</td>\n",
       "      <td>{'product': 'jumper cables', 'automobile': 'ca...</td>\n",
       "      <td>[-0.006678556092083454, -0.029311105608940125,...</td>\n",
       "    </tr>\n",
       "    <tr>\n",
       "      <th>2</th>\n",
       "      <td>A2I8LFSN2IS5EO</td>\n",
       "      <td>B00002243X</td>\n",
       "      <td>Chris</td>\n",
       "      <td>[0, 0]</td>\n",
       "      <td>Can't comment much on these since they have no...</td>\n",
       "      <td>5.0</td>\n",
       "      <td>Looks and feels heavy Duty</td>\n",
       "      <td>1374710400</td>\n",
       "      <td>07 25, 2013</td>\n",
       "      <td>cant comment much on these since they have not...</td>\n",
       "      <td>{\\n  \"entities\": [\\n    {\\n      \"name\": \"Octo...</td>\n",
       "      <td>{'entities': [{'name': 'October 2023', 'catego...</td>\n",
       "      <td>[0.003018268384039402, -0.020086057484149933, ...</td>\n",
       "    </tr>\n",
       "    <tr>\n",
       "      <th>1</th>\n",
       "      <td>A20S66SKYXULG2</td>\n",
       "      <td>B00002243X</td>\n",
       "      <td>alphonse</td>\n",
       "      <td>[1, 1]</td>\n",
       "      <td>These long cables work fine for my truck, but ...</td>\n",
       "      <td>4.0</td>\n",
       "      <td>Okay long cables</td>\n",
       "      <td>1315094400</td>\n",
       "      <td>09 4, 2011</td>\n",
       "      <td>these long cables work fine for my truck but t...</td>\n",
       "      <td>{\\n    \"person\": null,\\n    \"fac\": null,\\n    ...</td>\n",
       "      <td>{'person': None, 'fac': None, 'org': ['Harbor ...</td>\n",
       "      <td>[0.004645590670406818, -0.02970142289996147, -...</td>\n",
       "    </tr>\n",
       "    <tr>\n",
       "      <th>3</th>\n",
       "      <td>A3GT2EWQSO45ZG</td>\n",
       "      <td>B00002243X</td>\n",
       "      <td>DeusEx</td>\n",
       "      <td>[19, 19]</td>\n",
       "      <td>I absolutley love Amazon!!!  For the price of ...</td>\n",
       "      <td>5.0</td>\n",
       "      <td>Excellent choice for Jumper Cables!!!</td>\n",
       "      <td>1292889600</td>\n",
       "      <td>12 21, 2010</td>\n",
       "      <td>i absolutley love amazon for the price of a se...</td>\n",
       "      <td>```json\\n{\\n  \"entities\": [\\n    {\\n      \"nam...</td>\n",
       "      <td>{'entities': [{'name': 'Amazon', 'category': '...</td>\n",
       "      <td>[0.03718377649784088, -0.007096047047525644, -...</td>\n",
       "    </tr>\n",
       "    <tr>\n",
       "      <th>4</th>\n",
       "      <td>A3ESWJPAVRPWB4</td>\n",
       "      <td>B00002243X</td>\n",
       "      <td>E. Hernandez</td>\n",
       "      <td>[0, 0]</td>\n",
       "      <td>I purchased the 12' feet long cable set and th...</td>\n",
       "      <td>5.0</td>\n",
       "      <td>Excellent, High Quality Starter Cables</td>\n",
       "      <td>1341360000</td>\n",
       "      <td>07 4, 2012</td>\n",
       "      <td>i purchased the 12 feet long cable set and the...</td>\n",
       "      <td>```json\\n{\\n  \"person\": null,\\n  \"fac\": null,\\...</td>\n",
       "      <td>{'person': None, 'fac': None, 'org': None, 'gp...</td>\n",
       "      <td>[0.04240453615784645, -0.04263637959957123, -0...</td>\n",
       "    </tr>\n",
       "  </tbody>\n",
       "</table>\n",
       "</div>"
      ],
      "text/plain": [
       "       reviewerID        asin     reviewerName   helpful  \\\n",
       "0  A3F73SC1LY51OO  B00002243X  Alan Montgomery    [4, 4]   \n",
       "2  A2I8LFSN2IS5EO  B00002243X            Chris    [0, 0]   \n",
       "1  A20S66SKYXULG2  B00002243X         alphonse    [1, 1]   \n",
       "3  A3GT2EWQSO45ZG  B00002243X           DeusEx  [19, 19]   \n",
       "4  A3ESWJPAVRPWB4  B00002243X     E. Hernandez    [0, 0]   \n",
       "\n",
       "                                          reviewText  overall  \\\n",
       "0  I needed a set of jumper cables for my new car...      5.0   \n",
       "2  Can't comment much on these since they have no...      5.0   \n",
       "1  These long cables work fine for my truck, but ...      4.0   \n",
       "3  I absolutley love Amazon!!!  For the price of ...      5.0   \n",
       "4  I purchased the 12' feet long cable set and th...      5.0   \n",
       "\n",
       "                                      summary  unixReviewTime   reviewTime  \\\n",
       "0  Work Well - Should Have Bought Longer Ones      1313539200  08 17, 2011   \n",
       "2                  Looks and feels heavy Duty      1374710400  07 25, 2013   \n",
       "1                            Okay long cables      1315094400   09 4, 2011   \n",
       "3       Excellent choice for Jumper Cables!!!      1292889600  12 21, 2010   \n",
       "4      Excellent, High Quality Starter Cables      1341360000   07 4, 2012   \n",
       "\n",
       "                                  cleaned_reviewText  \\\n",
       "0  i needed a set of jumper cables for my new car...   \n",
       "2  cant comment much on these since they have not...   \n",
       "1  these long cables work fine for my truck but t...   \n",
       "3  i absolutley love amazon for the price of a se...   \n",
       "4  i purchased the 12 feet long cable set and the...   \n",
       "\n",
       "                                         NER_Tagging  \\\n",
       "0  ```json\\n{\\n  \"product\": \"jumper cables\",\\n  \"...   \n",
       "2  {\\n  \"entities\": [\\n    {\\n      \"name\": \"Octo...   \n",
       "1  {\\n    \"person\": null,\\n    \"fac\": null,\\n    ...   \n",
       "3  ```json\\n{\\n  \"entities\": [\\n    {\\n      \"nam...   \n",
       "4  ```json\\n{\\n  \"person\": null,\\n  \"fac\": null,\\...   \n",
       "\n",
       "                                          JSON_clean  \\\n",
       "0  {'product': 'jumper cables', 'automobile': 'ca...   \n",
       "2  {'entities': [{'name': 'October 2023', 'catego...   \n",
       "1  {'person': None, 'fac': None, 'org': ['Harbor ...   \n",
       "3  {'entities': [{'name': 'Amazon', 'category': '...   \n",
       "4  {'person': None, 'fac': None, 'org': None, 'gp...   \n",
       "\n",
       "                                          Embeddings  \n",
       "0  [-0.006678556092083454, -0.029311105608940125,...  \n",
       "2  [0.003018268384039402, -0.020086057484149933, ...  \n",
       "1  [0.004645590670406818, -0.02970142289996147, -...  \n",
       "3  [0.03718377649784088, -0.007096047047525644, -...  \n",
       "4  [0.04240453615784645, -0.04263637959957123, -0...  "
      ]
     },
     "execution_count": 19,
     "metadata": {},
     "output_type": "execute_result"
    }
   ],
   "source": []
  },
  {
   "cell_type": "code",
   "execution_count": 21,
   "metadata": {},
   "outputs": [
    {
     "data": {
      "text/plain": [
       "'jumper cables'"
      ]
     },
     "execution_count": 21,
     "metadata": {},
     "output_type": "execute_result"
    }
   ],
   "source": [
    "\n",
    "text = \"I am planning to buy insurance for my car, can you recommend some best car insurance company?\"\n",
    "recommend_product(text,df)\n",
    "\n",
    "\n",
    "\n",
    "def Recommendation(text): \n",
    "     # Define a prompt to instruct the model to extract entities\n",
    "    prompt = f\"\"\"{text}\"\"\"\n",
    "\n",
    "    # Make the API call to extract entities\n",
    "    response = openai.chat.completions.create(\n",
    "        model=\"gpt-4o-mini\",\n",
    "        messages=[\n",
    "            {\"role\": \"system\", \"content\": \"You are helpgul assistant to extract insight from json structure\"},\n",
    "            {\"role\": \"user\", \"content\": \"Text is given in below statement in json format extract only product name only \"},\n",
    "            {\"role\": \"assistant\", \"content\": \" statement in json format extract information and restruct in english sentence,only englist statement no additional comments \"},\n",
    "            {\"role\": \"user\", \"content\": f\"{text}\"}\n",
    "  ],\n",
    "  temperature= 0\n",
    "       \n",
    "    )\n",
    "\n",
    "    # Get the model's response\n",
    "    entities = response.choices[0].message.content\n",
    "    time.sleep(2)\n",
    "\n",
    "    return entities\n",
    "\n",
    "\n",
    "Recommendation(recommend_product(text,df)['JSON_clean'])"
   ]
  },
  {
   "cell_type": "code",
   "execution_count": 22,
   "metadata": {},
   "outputs": [
    {
     "data": {
      "text/plain": [
       "{'Booster/Jumper Cables',\n",
       " 'The product name is \"12\\' feet long cable set\".',\n",
       " 'The product name is jumper cables.',\n",
       " 'bucket boss 06009 jumper cable bag',\n",
       " 'jumper cables'}"
      ]
     },
     "execution_count": 22,
     "metadata": {},
     "output_type": "execute_result"
    }
   ],
   "source": [
    "l = set()\n",
    "for i in recommend_product(text,df)['JSON_clean']:\n",
    "    l.add(Recommendation(i))\n",
    "    time.sleep(2)\n",
    "\n",
    "l"
   ]
  },
  {
   "cell_type": "code",
   "execution_count": 23,
   "metadata": {},
   "outputs": [
    {
     "data": {
      "text/plain": [
       "{'Booster/Jumper Cables',\n",
       " 'The product name is \"12\\' feet long cable set\".',\n",
       " 'bucket boss 06009 jumper cable bag',\n",
       " 'jumper cables'}"
      ]
     },
     "execution_count": 23,
     "metadata": {},
     "output_type": "execute_result"
    }
   ],
   "source": [
    "example_review = \"Looking for car shiner polish to clean car\"\n",
    "\n",
    "# Get recommendations based on the example review\n",
    "recommendations = recommend_product(example_review, df)\n",
    "\n",
    "# Display recommendations\n",
    "recommendations\n",
    "\n",
    "\n",
    "l = set()\n",
    "for i in recommendations['JSON_clean']:\n",
    "    l.add(Recommendation(i))\n",
    "    time.sleep(2)\n",
    "\n",
    "l"
   ]
  },
  {
   "cell_type": "code",
   "execution_count": null,
   "metadata": {},
   "outputs": [],
   "source": []
  },
  {
   "cell_type": "code",
   "execution_count": null,
   "metadata": {},
   "outputs": [],
   "source": []
  },
  {
   "cell_type": "code",
   "execution_count": null,
   "metadata": {},
   "outputs": [],
   "source": []
  },
  {
   "cell_type": "code",
   "execution_count": 1,
   "metadata": {},
   "outputs": [
    {
     "name": "stdout",
     "output_type": "stream",
     "text": [
      "Hi\n"
     ]
    }
   ],
   "source": [
    "print('Hi')"
   ]
  },
  {
   "cell_type": "code",
   "execution_count": 9,
   "metadata": {},
   "outputs": [],
   "source": [
    "dict_ ={3:\"dd\",2:\"df\"}"
   ]
  },
  {
   "cell_type": "code",
   "execution_count": 10,
   "metadata": {},
   "outputs": [],
   "source": [
    "for i in dict_:\n",
    "    if i ==1:\n",
    "        print(\"True\")"
   ]
  },
  {
   "cell_type": "code",
   "execution_count": null,
   "metadata": {},
   "outputs": [],
   "source": []
  },
  {
   "cell_type": "markdown",
   "metadata": {},
   "source": [
    "# Unstructured library"
   ]
  },
  {
   "cell_type": "code",
   "execution_count": 2,
   "metadata": {},
   "outputs": [
    {
     "name": "stderr",
     "output_type": "stream",
     "text": [
      "\n",
      "[notice] A new release of pip is available: 24.0 -> 25.0.1\n",
      "[notice] To update, run: python.exe -m pip install --upgrade pip\n"
     ]
    }
   ],
   "source": [
    "! pip install -Uq \"unstructured[all-docs]\""
   ]
  },
  {
   "cell_type": "code",
   "execution_count": 3,
   "metadata": {},
   "outputs": [
    {
     "name": "stderr",
     "output_type": "stream",
     "text": [
      "ERROR: pip's dependency resolver does not currently take into account all the packages that are installed. This behaviour is the source of the following dependency conflicts.\n",
      "langchain-chroma 0.1.3 requires chromadb!=0.5.4,!=0.5.5,<0.6.0,>=0.4.0, but you have chromadb 0.6.3 which is incompatible.\n",
      "\n",
      "[notice] A new release of pip is available: 24.0 -> 25.0.1\n",
      "[notice] To update, run: python.exe -m pip install --upgrade pip\n"
     ]
    }
   ],
   "source": [
    "! pip install -Uq chromadb tiktoken"
   ]
  },
  {
   "cell_type": "code",
   "execution_count": 4,
   "metadata": {},
   "outputs": [
    {
     "name": "stderr",
     "output_type": "stream",
     "text": [
      "ERROR: pip's dependency resolver does not currently take into account all the packages that are installed. This behaviour is the source of the following dependency conflicts.\n",
      "langchain-chroma 0.1.3 requires chromadb!=0.5.4,!=0.5.5,<0.6.0,>=0.4.0, but you have chromadb 0.6.3 which is incompatible.\n",
      "langchain-chroma 0.1.3 requires langchain-core<0.3,>=0.1.40, but you have langchain-core 0.3.43 which is incompatible.\n",
      "\n",
      "[notice] A new release of pip is available: 24.0 -> 25.0.1\n",
      "[notice] To update, run: python.exe -m pip install --upgrade pip\n"
     ]
    }
   ],
   "source": [
    "! pip install -Uq langchain langchain-community langchain-openai langchain-groq"
   ]
  },
  {
   "cell_type": "code",
   "execution_count": 6,
   "metadata": {},
   "outputs": [
    {
     "name": "stdout",
     "output_type": "stream",
     "text": [
      "Requirement already satisfied: onnx in c:\\users\\ai\\onedrive\\programm\\github\\hf_projects\\.venv\\lib\\site-packages (1.17.0)\n",
      "Requirement already satisfied: numpy>=1.20 in c:\\users\\ai\\onedrive\\programm\\github\\hf_projects\\.venv\\lib\\site-packages (from onnx) (1.26.4)\n",
      "Requirement already satisfied: protobuf>=3.20.2 in c:\\users\\ai\\onedrive\\programm\\github\\hf_projects\\.venv\\lib\\site-packages (from onnx) (4.25.3)\n"
     ]
    },
    {
     "name": "stderr",
     "output_type": "stream",
     "text": [
      "\n",
      "[notice] A new release of pip is available: 24.0 -> 25.0.1\n",
      "[notice] To update, run: python.exe -m pip install --upgrade pip\n"
     ]
    }
   ],
   "source": [
    "! pip install onnx"
   ]
  },
  {
   "cell_type": "code",
   "execution_count": 1,
   "metadata": {},
   "outputs": [
    {
     "ename": "ModuleNotFoundError",
     "evalue": "No module named 'onnxruntime'",
     "output_type": "error",
     "traceback": [
      "\u001b[1;31m---------------------------------------------------------------------------\u001b[0m",
      "\u001b[1;31mModuleNotFoundError\u001b[0m                       Traceback (most recent call last)",
      "Cell \u001b[1;32mIn[1], line 1\u001b[0m\n\u001b[1;32m----> 1\u001b[0m \u001b[38;5;28;01mimport\u001b[39;00m \u001b[38;5;21;01monnxruntime\u001b[39;00m\n\u001b[0;32m      2\u001b[0m \u001b[38;5;28;01mfrom\u001b[39;00m \u001b[38;5;21;01munstructured\u001b[39;00m\u001b[38;5;21;01m.\u001b[39;00m\u001b[38;5;21;01mpartition\u001b[39;00m\u001b[38;5;21;01m.\u001b[39;00m\u001b[38;5;21;01mpdf\u001b[39;00m \u001b[38;5;28;01mimport\u001b[39;00m partition_pdf\n\u001b[0;32m      5\u001b[0m output_path \u001b[38;5;241m=\u001b[39m \u001b[38;5;124m'\u001b[39m\u001b[38;5;124msrc/input/The_Story_of_Gandhi-1-15.pdf\u001b[39m\u001b[38;5;124m'\u001b[39m\n",
      "\u001b[1;31mModuleNotFoundError\u001b[0m: No module named 'onnxruntime'"
     ]
    }
   ],
   "source": [
    "import onnxruntime\n",
    "from unstructured.partition.pdf import partition_pdf\n",
    "\n",
    "output_path = 'src/input/The_Story_of_Gandhi-1-15.pdf'"
   ]
  },
  {
   "cell_type": "code",
   "execution_count": null,
   "metadata": {},
   "outputs": [],
   "source": [
    "ch"
   ]
  }
 ],
 "metadata": {
  "kernelspec": {
   "display_name": "Python 3 (ipykernel)",
   "language": "python",
   "name": "python3"
  },
  "language_info": {
   "codemirror_mode": {
    "name": "ipython",
    "version": 3
   },
   "file_extension": ".py",
   "mimetype": "text/x-python",
   "name": "python",
   "nbconvert_exporter": "python",
   "pygments_lexer": "ipython3",
   "version": "3.10.9"
  }
 },
 "nbformat": 4,
 "nbformat_minor": 2
}
